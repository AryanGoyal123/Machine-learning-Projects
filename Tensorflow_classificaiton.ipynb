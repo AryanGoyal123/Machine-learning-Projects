{
  "nbformat": 4,
  "nbformat_minor": 0,
  "metadata": {
    "colab": {
      "name": "Tensorflow classificaiton.ipynb",
      "provenance": [],
      "authorship_tag": "ABX9TyPE28POfNG3pa1Ws2VNJCKZ",
      "include_colab_link": true
    },
    "kernelspec": {
      "name": "python3",
      "display_name": "Python 3"
    },
    "language_info": {
      "name": "python"
    }
  },
  "cells": [
    {
      "cell_type": "markdown",
      "metadata": {
        "id": "view-in-github",
        "colab_type": "text"
      },
      "source": [
        "<a href=\"https://colab.research.google.com/github/AryanGoyal123/Machine-learning-Projects/blob/main/Tensorflow_classificaiton.ipynb\" target=\"_parent\"><img src=\"https://colab.research.google.com/assets/colab-badge.svg\" alt=\"Open In Colab\"/></a>"
      ]
    },
    {
      "cell_type": "code",
      "metadata": {
        "id": "x4BpaEj0LSKB"
      },
      "source": [
        "import pandas as pd\n",
        "import numpy as np\n",
        "import matplotlib.pyplot as plt\n",
        "import seaborn as sns"
      ],
      "execution_count": null,
      "outputs": []
    },
    {
      "cell_type": "code",
      "metadata": {
        "colab": {
          "resources": {
            "http://localhost:8080/nbextensions/google.colab/files.js": {
              "data": "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",
              "ok": true,
              "headers": [
                [
                  "content-type",
                  "application/javascript"
                ]
              ],
              "status": 200,
              "status_text": ""
            }
          },
          "base_uri": "https://localhost:8080/",
          "height": 74
        },
        "id": "3o6Vk-t8MF3j",
        "outputId": "a5689a5e-4569-4a27-d3b6-dbd2d6e1b805"
      },
      "source": [
        "from google.colab import files\n",
        "uploaded = files.upload()"
      ],
      "execution_count": null,
      "outputs": [
        {
          "output_type": "display_data",
          "data": {
            "text/html": [
              "\n",
              "     <input type=\"file\" id=\"files-415d3d3f-6f83-4a85-94da-5490c1713f4a\" name=\"files[]\" multiple disabled\n",
              "        style=\"border:none\" />\n",
              "     <output id=\"result-415d3d3f-6f83-4a85-94da-5490c1713f4a\">\n",
              "      Upload widget is only available when the cell has been executed in the\n",
              "      current browser session. Please rerun this cell to enable.\n",
              "      </output>\n",
              "      <script src=\"/nbextensions/google.colab/files.js\"></script> "
            ],
            "text/plain": [
              "<IPython.core.display.HTML object>"
            ]
          },
          "metadata": {}
        },
        {
          "output_type": "stream",
          "name": "stdout",
          "text": [
            "Saving cancer_classification.csv to cancer_classification.csv\n"
          ]
        }
      ]
    },
    {
      "cell_type": "code",
      "metadata": {
        "id": "EPQrS1j9MIN7"
      },
      "source": [
        "import io\n",
        "df = pd.read_csv(io.BytesIO(uploaded['cancer_classification.csv']))\n",
        "# Dataset is now stored in a Pandas Dataframe"
      ],
      "execution_count": null,
      "outputs": []
    },
    {
      "cell_type": "code",
      "metadata": {
        "colab": {
          "base_uri": "https://localhost:8080/",
          "height": 478
        },
        "id": "LvldpFQOMXYE",
        "outputId": "df5a0202-d5e6-4576-e127-8638142eb4b6"
      },
      "source": [
        "df"
      ],
      "execution_count": null,
      "outputs": [
        {
          "output_type": "execute_result",
          "data": {
            "text/html": [
              "<div>\n",
              "<style scoped>\n",
              "    .dataframe tbody tr th:only-of-type {\n",
              "        vertical-align: middle;\n",
              "    }\n",
              "\n",
              "    .dataframe tbody tr th {\n",
              "        vertical-align: top;\n",
              "    }\n",
              "\n",
              "    .dataframe thead th {\n",
              "        text-align: right;\n",
              "    }\n",
              "</style>\n",
              "<table border=\"1\" class=\"dataframe\">\n",
              "  <thead>\n",
              "    <tr style=\"text-align: right;\">\n",
              "      <th></th>\n",
              "      <th>mean radius</th>\n",
              "      <th>mean texture</th>\n",
              "      <th>mean perimeter</th>\n",
              "      <th>mean area</th>\n",
              "      <th>mean smoothness</th>\n",
              "      <th>mean compactness</th>\n",
              "      <th>mean concavity</th>\n",
              "      <th>mean concave points</th>\n",
              "      <th>mean symmetry</th>\n",
              "      <th>mean fractal dimension</th>\n",
              "      <th>radius error</th>\n",
              "      <th>texture error</th>\n",
              "      <th>perimeter error</th>\n",
              "      <th>area error</th>\n",
              "      <th>smoothness error</th>\n",
              "      <th>compactness error</th>\n",
              "      <th>concavity error</th>\n",
              "      <th>concave points error</th>\n",
              "      <th>symmetry error</th>\n",
              "      <th>fractal dimension error</th>\n",
              "      <th>worst radius</th>\n",
              "      <th>worst texture</th>\n",
              "      <th>worst perimeter</th>\n",
              "      <th>worst area</th>\n",
              "      <th>worst smoothness</th>\n",
              "      <th>worst compactness</th>\n",
              "      <th>worst concavity</th>\n",
              "      <th>worst concave points</th>\n",
              "      <th>worst symmetry</th>\n",
              "      <th>worst fractal dimension</th>\n",
              "      <th>benign_0__mal_1</th>\n",
              "    </tr>\n",
              "  </thead>\n",
              "  <tbody>\n",
              "    <tr>\n",
              "      <th>0</th>\n",
              "      <td>17.99</td>\n",
              "      <td>10.38</td>\n",
              "      <td>122.80</td>\n",
              "      <td>1001.0</td>\n",
              "      <td>0.11840</td>\n",
              "      <td>0.27760</td>\n",
              "      <td>0.30010</td>\n",
              "      <td>0.14710</td>\n",
              "      <td>0.2419</td>\n",
              "      <td>0.07871</td>\n",
              "      <td>1.0950</td>\n",
              "      <td>0.9053</td>\n",
              "      <td>8.589</td>\n",
              "      <td>153.40</td>\n",
              "      <td>0.006399</td>\n",
              "      <td>0.04904</td>\n",
              "      <td>0.05373</td>\n",
              "      <td>0.01587</td>\n",
              "      <td>0.03003</td>\n",
              "      <td>0.006193</td>\n",
              "      <td>25.380</td>\n",
              "      <td>17.33</td>\n",
              "      <td>184.60</td>\n",
              "      <td>2019.0</td>\n",
              "      <td>0.16220</td>\n",
              "      <td>0.66560</td>\n",
              "      <td>0.7119</td>\n",
              "      <td>0.2654</td>\n",
              "      <td>0.4601</td>\n",
              "      <td>0.11890</td>\n",
              "      <td>0</td>\n",
              "    </tr>\n",
              "    <tr>\n",
              "      <th>1</th>\n",
              "      <td>20.57</td>\n",
              "      <td>17.77</td>\n",
              "      <td>132.90</td>\n",
              "      <td>1326.0</td>\n",
              "      <td>0.08474</td>\n",
              "      <td>0.07864</td>\n",
              "      <td>0.08690</td>\n",
              "      <td>0.07017</td>\n",
              "      <td>0.1812</td>\n",
              "      <td>0.05667</td>\n",
              "      <td>0.5435</td>\n",
              "      <td>0.7339</td>\n",
              "      <td>3.398</td>\n",
              "      <td>74.08</td>\n",
              "      <td>0.005225</td>\n",
              "      <td>0.01308</td>\n",
              "      <td>0.01860</td>\n",
              "      <td>0.01340</td>\n",
              "      <td>0.01389</td>\n",
              "      <td>0.003532</td>\n",
              "      <td>24.990</td>\n",
              "      <td>23.41</td>\n",
              "      <td>158.80</td>\n",
              "      <td>1956.0</td>\n",
              "      <td>0.12380</td>\n",
              "      <td>0.18660</td>\n",
              "      <td>0.2416</td>\n",
              "      <td>0.1860</td>\n",
              "      <td>0.2750</td>\n",
              "      <td>0.08902</td>\n",
              "      <td>0</td>\n",
              "    </tr>\n",
              "    <tr>\n",
              "      <th>2</th>\n",
              "      <td>19.69</td>\n",
              "      <td>21.25</td>\n",
              "      <td>130.00</td>\n",
              "      <td>1203.0</td>\n",
              "      <td>0.10960</td>\n",
              "      <td>0.15990</td>\n",
              "      <td>0.19740</td>\n",
              "      <td>0.12790</td>\n",
              "      <td>0.2069</td>\n",
              "      <td>0.05999</td>\n",
              "      <td>0.7456</td>\n",
              "      <td>0.7869</td>\n",
              "      <td>4.585</td>\n",
              "      <td>94.03</td>\n",
              "      <td>0.006150</td>\n",
              "      <td>0.04006</td>\n",
              "      <td>0.03832</td>\n",
              "      <td>0.02058</td>\n",
              "      <td>0.02250</td>\n",
              "      <td>0.004571</td>\n",
              "      <td>23.570</td>\n",
              "      <td>25.53</td>\n",
              "      <td>152.50</td>\n",
              "      <td>1709.0</td>\n",
              "      <td>0.14440</td>\n",
              "      <td>0.42450</td>\n",
              "      <td>0.4504</td>\n",
              "      <td>0.2430</td>\n",
              "      <td>0.3613</td>\n",
              "      <td>0.08758</td>\n",
              "      <td>0</td>\n",
              "    </tr>\n",
              "    <tr>\n",
              "      <th>3</th>\n",
              "      <td>11.42</td>\n",
              "      <td>20.38</td>\n",
              "      <td>77.58</td>\n",
              "      <td>386.1</td>\n",
              "      <td>0.14250</td>\n",
              "      <td>0.28390</td>\n",
              "      <td>0.24140</td>\n",
              "      <td>0.10520</td>\n",
              "      <td>0.2597</td>\n",
              "      <td>0.09744</td>\n",
              "      <td>0.4956</td>\n",
              "      <td>1.1560</td>\n",
              "      <td>3.445</td>\n",
              "      <td>27.23</td>\n",
              "      <td>0.009110</td>\n",
              "      <td>0.07458</td>\n",
              "      <td>0.05661</td>\n",
              "      <td>0.01867</td>\n",
              "      <td>0.05963</td>\n",
              "      <td>0.009208</td>\n",
              "      <td>14.910</td>\n",
              "      <td>26.50</td>\n",
              "      <td>98.87</td>\n",
              "      <td>567.7</td>\n",
              "      <td>0.20980</td>\n",
              "      <td>0.86630</td>\n",
              "      <td>0.6869</td>\n",
              "      <td>0.2575</td>\n",
              "      <td>0.6638</td>\n",
              "      <td>0.17300</td>\n",
              "      <td>0</td>\n",
              "    </tr>\n",
              "    <tr>\n",
              "      <th>4</th>\n",
              "      <td>20.29</td>\n",
              "      <td>14.34</td>\n",
              "      <td>135.10</td>\n",
              "      <td>1297.0</td>\n",
              "      <td>0.10030</td>\n",
              "      <td>0.13280</td>\n",
              "      <td>0.19800</td>\n",
              "      <td>0.10430</td>\n",
              "      <td>0.1809</td>\n",
              "      <td>0.05883</td>\n",
              "      <td>0.7572</td>\n",
              "      <td>0.7813</td>\n",
              "      <td>5.438</td>\n",
              "      <td>94.44</td>\n",
              "      <td>0.011490</td>\n",
              "      <td>0.02461</td>\n",
              "      <td>0.05688</td>\n",
              "      <td>0.01885</td>\n",
              "      <td>0.01756</td>\n",
              "      <td>0.005115</td>\n",
              "      <td>22.540</td>\n",
              "      <td>16.67</td>\n",
              "      <td>152.20</td>\n",
              "      <td>1575.0</td>\n",
              "      <td>0.13740</td>\n",
              "      <td>0.20500</td>\n",
              "      <td>0.4000</td>\n",
              "      <td>0.1625</td>\n",
              "      <td>0.2364</td>\n",
              "      <td>0.07678</td>\n",
              "      <td>0</td>\n",
              "    </tr>\n",
              "    <tr>\n",
              "      <th>...</th>\n",
              "      <td>...</td>\n",
              "      <td>...</td>\n",
              "      <td>...</td>\n",
              "      <td>...</td>\n",
              "      <td>...</td>\n",
              "      <td>...</td>\n",
              "      <td>...</td>\n",
              "      <td>...</td>\n",
              "      <td>...</td>\n",
              "      <td>...</td>\n",
              "      <td>...</td>\n",
              "      <td>...</td>\n",
              "      <td>...</td>\n",
              "      <td>...</td>\n",
              "      <td>...</td>\n",
              "      <td>...</td>\n",
              "      <td>...</td>\n",
              "      <td>...</td>\n",
              "      <td>...</td>\n",
              "      <td>...</td>\n",
              "      <td>...</td>\n",
              "      <td>...</td>\n",
              "      <td>...</td>\n",
              "      <td>...</td>\n",
              "      <td>...</td>\n",
              "      <td>...</td>\n",
              "      <td>...</td>\n",
              "      <td>...</td>\n",
              "      <td>...</td>\n",
              "      <td>...</td>\n",
              "      <td>...</td>\n",
              "    </tr>\n",
              "    <tr>\n",
              "      <th>564</th>\n",
              "      <td>21.56</td>\n",
              "      <td>22.39</td>\n",
              "      <td>142.00</td>\n",
              "      <td>1479.0</td>\n",
              "      <td>0.11100</td>\n",
              "      <td>0.11590</td>\n",
              "      <td>0.24390</td>\n",
              "      <td>0.13890</td>\n",
              "      <td>0.1726</td>\n",
              "      <td>0.05623</td>\n",
              "      <td>1.1760</td>\n",
              "      <td>1.2560</td>\n",
              "      <td>7.673</td>\n",
              "      <td>158.70</td>\n",
              "      <td>0.010300</td>\n",
              "      <td>0.02891</td>\n",
              "      <td>0.05198</td>\n",
              "      <td>0.02454</td>\n",
              "      <td>0.01114</td>\n",
              "      <td>0.004239</td>\n",
              "      <td>25.450</td>\n",
              "      <td>26.40</td>\n",
              "      <td>166.10</td>\n",
              "      <td>2027.0</td>\n",
              "      <td>0.14100</td>\n",
              "      <td>0.21130</td>\n",
              "      <td>0.4107</td>\n",
              "      <td>0.2216</td>\n",
              "      <td>0.2060</td>\n",
              "      <td>0.07115</td>\n",
              "      <td>0</td>\n",
              "    </tr>\n",
              "    <tr>\n",
              "      <th>565</th>\n",
              "      <td>20.13</td>\n",
              "      <td>28.25</td>\n",
              "      <td>131.20</td>\n",
              "      <td>1261.0</td>\n",
              "      <td>0.09780</td>\n",
              "      <td>0.10340</td>\n",
              "      <td>0.14400</td>\n",
              "      <td>0.09791</td>\n",
              "      <td>0.1752</td>\n",
              "      <td>0.05533</td>\n",
              "      <td>0.7655</td>\n",
              "      <td>2.4630</td>\n",
              "      <td>5.203</td>\n",
              "      <td>99.04</td>\n",
              "      <td>0.005769</td>\n",
              "      <td>0.02423</td>\n",
              "      <td>0.03950</td>\n",
              "      <td>0.01678</td>\n",
              "      <td>0.01898</td>\n",
              "      <td>0.002498</td>\n",
              "      <td>23.690</td>\n",
              "      <td>38.25</td>\n",
              "      <td>155.00</td>\n",
              "      <td>1731.0</td>\n",
              "      <td>0.11660</td>\n",
              "      <td>0.19220</td>\n",
              "      <td>0.3215</td>\n",
              "      <td>0.1628</td>\n",
              "      <td>0.2572</td>\n",
              "      <td>0.06637</td>\n",
              "      <td>0</td>\n",
              "    </tr>\n",
              "    <tr>\n",
              "      <th>566</th>\n",
              "      <td>16.60</td>\n",
              "      <td>28.08</td>\n",
              "      <td>108.30</td>\n",
              "      <td>858.1</td>\n",
              "      <td>0.08455</td>\n",
              "      <td>0.10230</td>\n",
              "      <td>0.09251</td>\n",
              "      <td>0.05302</td>\n",
              "      <td>0.1590</td>\n",
              "      <td>0.05648</td>\n",
              "      <td>0.4564</td>\n",
              "      <td>1.0750</td>\n",
              "      <td>3.425</td>\n",
              "      <td>48.55</td>\n",
              "      <td>0.005903</td>\n",
              "      <td>0.03731</td>\n",
              "      <td>0.04730</td>\n",
              "      <td>0.01557</td>\n",
              "      <td>0.01318</td>\n",
              "      <td>0.003892</td>\n",
              "      <td>18.980</td>\n",
              "      <td>34.12</td>\n",
              "      <td>126.70</td>\n",
              "      <td>1124.0</td>\n",
              "      <td>0.11390</td>\n",
              "      <td>0.30940</td>\n",
              "      <td>0.3403</td>\n",
              "      <td>0.1418</td>\n",
              "      <td>0.2218</td>\n",
              "      <td>0.07820</td>\n",
              "      <td>0</td>\n",
              "    </tr>\n",
              "    <tr>\n",
              "      <th>567</th>\n",
              "      <td>20.60</td>\n",
              "      <td>29.33</td>\n",
              "      <td>140.10</td>\n",
              "      <td>1265.0</td>\n",
              "      <td>0.11780</td>\n",
              "      <td>0.27700</td>\n",
              "      <td>0.35140</td>\n",
              "      <td>0.15200</td>\n",
              "      <td>0.2397</td>\n",
              "      <td>0.07016</td>\n",
              "      <td>0.7260</td>\n",
              "      <td>1.5950</td>\n",
              "      <td>5.772</td>\n",
              "      <td>86.22</td>\n",
              "      <td>0.006522</td>\n",
              "      <td>0.06158</td>\n",
              "      <td>0.07117</td>\n",
              "      <td>0.01664</td>\n",
              "      <td>0.02324</td>\n",
              "      <td>0.006185</td>\n",
              "      <td>25.740</td>\n",
              "      <td>39.42</td>\n",
              "      <td>184.60</td>\n",
              "      <td>1821.0</td>\n",
              "      <td>0.16500</td>\n",
              "      <td>0.86810</td>\n",
              "      <td>0.9387</td>\n",
              "      <td>0.2650</td>\n",
              "      <td>0.4087</td>\n",
              "      <td>0.12400</td>\n",
              "      <td>0</td>\n",
              "    </tr>\n",
              "    <tr>\n",
              "      <th>568</th>\n",
              "      <td>7.76</td>\n",
              "      <td>24.54</td>\n",
              "      <td>47.92</td>\n",
              "      <td>181.0</td>\n",
              "      <td>0.05263</td>\n",
              "      <td>0.04362</td>\n",
              "      <td>0.00000</td>\n",
              "      <td>0.00000</td>\n",
              "      <td>0.1587</td>\n",
              "      <td>0.05884</td>\n",
              "      <td>0.3857</td>\n",
              "      <td>1.4280</td>\n",
              "      <td>2.548</td>\n",
              "      <td>19.15</td>\n",
              "      <td>0.007189</td>\n",
              "      <td>0.00466</td>\n",
              "      <td>0.00000</td>\n",
              "      <td>0.00000</td>\n",
              "      <td>0.02676</td>\n",
              "      <td>0.002783</td>\n",
              "      <td>9.456</td>\n",
              "      <td>30.37</td>\n",
              "      <td>59.16</td>\n",
              "      <td>268.6</td>\n",
              "      <td>0.08996</td>\n",
              "      <td>0.06444</td>\n",
              "      <td>0.0000</td>\n",
              "      <td>0.0000</td>\n",
              "      <td>0.2871</td>\n",
              "      <td>0.07039</td>\n",
              "      <td>1</td>\n",
              "    </tr>\n",
              "  </tbody>\n",
              "</table>\n",
              "<p>569 rows × 31 columns</p>\n",
              "</div>"
            ],
            "text/plain": [
              "     mean radius  mean texture  ...  worst fractal dimension  benign_0__mal_1\n",
              "0          17.99         10.38  ...                  0.11890                0\n",
              "1          20.57         17.77  ...                  0.08902                0\n",
              "2          19.69         21.25  ...                  0.08758                0\n",
              "3          11.42         20.38  ...                  0.17300                0\n",
              "4          20.29         14.34  ...                  0.07678                0\n",
              "..           ...           ...  ...                      ...              ...\n",
              "564        21.56         22.39  ...                  0.07115                0\n",
              "565        20.13         28.25  ...                  0.06637                0\n",
              "566        16.60         28.08  ...                  0.07820                0\n",
              "567        20.60         29.33  ...                  0.12400                0\n",
              "568         7.76         24.54  ...                  0.07039                1\n",
              "\n",
              "[569 rows x 31 columns]"
            ]
          },
          "metadata": {},
          "execution_count": 4
        }
      ]
    },
    {
      "cell_type": "code",
      "metadata": {
        "colab": {
          "base_uri": "https://localhost:8080/",
          "height": 355
        },
        "id": "-ujHXdcTMYZD",
        "outputId": "61bd98c7-1c59-4527-b85e-ab7d41f45caf"
      },
      "source": [
        "df.describe()"
      ],
      "execution_count": null,
      "outputs": [
        {
          "output_type": "execute_result",
          "data": {
            "text/html": [
              "<div>\n",
              "<style scoped>\n",
              "    .dataframe tbody tr th:only-of-type {\n",
              "        vertical-align: middle;\n",
              "    }\n",
              "\n",
              "    .dataframe tbody tr th {\n",
              "        vertical-align: top;\n",
              "    }\n",
              "\n",
              "    .dataframe thead th {\n",
              "        text-align: right;\n",
              "    }\n",
              "</style>\n",
              "<table border=\"1\" class=\"dataframe\">\n",
              "  <thead>\n",
              "    <tr style=\"text-align: right;\">\n",
              "      <th></th>\n",
              "      <th>mean radius</th>\n",
              "      <th>mean texture</th>\n",
              "      <th>mean perimeter</th>\n",
              "      <th>mean area</th>\n",
              "      <th>mean smoothness</th>\n",
              "      <th>mean compactness</th>\n",
              "      <th>mean concavity</th>\n",
              "      <th>mean concave points</th>\n",
              "      <th>mean symmetry</th>\n",
              "      <th>mean fractal dimension</th>\n",
              "      <th>radius error</th>\n",
              "      <th>texture error</th>\n",
              "      <th>perimeter error</th>\n",
              "      <th>area error</th>\n",
              "      <th>smoothness error</th>\n",
              "      <th>compactness error</th>\n",
              "      <th>concavity error</th>\n",
              "      <th>concave points error</th>\n",
              "      <th>symmetry error</th>\n",
              "      <th>fractal dimension error</th>\n",
              "      <th>worst radius</th>\n",
              "      <th>worst texture</th>\n",
              "      <th>worst perimeter</th>\n",
              "      <th>worst area</th>\n",
              "      <th>worst smoothness</th>\n",
              "      <th>worst compactness</th>\n",
              "      <th>worst concavity</th>\n",
              "      <th>worst concave points</th>\n",
              "      <th>worst symmetry</th>\n",
              "      <th>worst fractal dimension</th>\n",
              "      <th>benign_0__mal_1</th>\n",
              "    </tr>\n",
              "  </thead>\n",
              "  <tbody>\n",
              "    <tr>\n",
              "      <th>count</th>\n",
              "      <td>569.000000</td>\n",
              "      <td>569.000000</td>\n",
              "      <td>569.000000</td>\n",
              "      <td>569.000000</td>\n",
              "      <td>569.000000</td>\n",
              "      <td>569.000000</td>\n",
              "      <td>569.000000</td>\n",
              "      <td>569.000000</td>\n",
              "      <td>569.000000</td>\n",
              "      <td>569.000000</td>\n",
              "      <td>569.000000</td>\n",
              "      <td>569.000000</td>\n",
              "      <td>569.000000</td>\n",
              "      <td>569.000000</td>\n",
              "      <td>569.000000</td>\n",
              "      <td>569.000000</td>\n",
              "      <td>569.000000</td>\n",
              "      <td>569.000000</td>\n",
              "      <td>569.000000</td>\n",
              "      <td>569.000000</td>\n",
              "      <td>569.000000</td>\n",
              "      <td>569.000000</td>\n",
              "      <td>569.000000</td>\n",
              "      <td>569.000000</td>\n",
              "      <td>569.000000</td>\n",
              "      <td>569.000000</td>\n",
              "      <td>569.000000</td>\n",
              "      <td>569.000000</td>\n",
              "      <td>569.000000</td>\n",
              "      <td>569.000000</td>\n",
              "      <td>569.000000</td>\n",
              "    </tr>\n",
              "    <tr>\n",
              "      <th>mean</th>\n",
              "      <td>14.127292</td>\n",
              "      <td>19.289649</td>\n",
              "      <td>91.969033</td>\n",
              "      <td>654.889104</td>\n",
              "      <td>0.096360</td>\n",
              "      <td>0.104341</td>\n",
              "      <td>0.088799</td>\n",
              "      <td>0.048919</td>\n",
              "      <td>0.181162</td>\n",
              "      <td>0.062798</td>\n",
              "      <td>0.405172</td>\n",
              "      <td>1.216853</td>\n",
              "      <td>2.866059</td>\n",
              "      <td>40.337079</td>\n",
              "      <td>0.007041</td>\n",
              "      <td>0.025478</td>\n",
              "      <td>0.031894</td>\n",
              "      <td>0.011796</td>\n",
              "      <td>0.020542</td>\n",
              "      <td>0.003795</td>\n",
              "      <td>16.269190</td>\n",
              "      <td>25.677223</td>\n",
              "      <td>107.261213</td>\n",
              "      <td>880.583128</td>\n",
              "      <td>0.132369</td>\n",
              "      <td>0.254265</td>\n",
              "      <td>0.272188</td>\n",
              "      <td>0.114606</td>\n",
              "      <td>0.290076</td>\n",
              "      <td>0.083946</td>\n",
              "      <td>0.627417</td>\n",
              "    </tr>\n",
              "    <tr>\n",
              "      <th>std</th>\n",
              "      <td>3.524049</td>\n",
              "      <td>4.301036</td>\n",
              "      <td>24.298981</td>\n",
              "      <td>351.914129</td>\n",
              "      <td>0.014064</td>\n",
              "      <td>0.052813</td>\n",
              "      <td>0.079720</td>\n",
              "      <td>0.038803</td>\n",
              "      <td>0.027414</td>\n",
              "      <td>0.007060</td>\n",
              "      <td>0.277313</td>\n",
              "      <td>0.551648</td>\n",
              "      <td>2.021855</td>\n",
              "      <td>45.491006</td>\n",
              "      <td>0.003003</td>\n",
              "      <td>0.017908</td>\n",
              "      <td>0.030186</td>\n",
              "      <td>0.006170</td>\n",
              "      <td>0.008266</td>\n",
              "      <td>0.002646</td>\n",
              "      <td>4.833242</td>\n",
              "      <td>6.146258</td>\n",
              "      <td>33.602542</td>\n",
              "      <td>569.356993</td>\n",
              "      <td>0.022832</td>\n",
              "      <td>0.157336</td>\n",
              "      <td>0.208624</td>\n",
              "      <td>0.065732</td>\n",
              "      <td>0.061867</td>\n",
              "      <td>0.018061</td>\n",
              "      <td>0.483918</td>\n",
              "    </tr>\n",
              "    <tr>\n",
              "      <th>min</th>\n",
              "      <td>6.981000</td>\n",
              "      <td>9.710000</td>\n",
              "      <td>43.790000</td>\n",
              "      <td>143.500000</td>\n",
              "      <td>0.052630</td>\n",
              "      <td>0.019380</td>\n",
              "      <td>0.000000</td>\n",
              "      <td>0.000000</td>\n",
              "      <td>0.106000</td>\n",
              "      <td>0.049960</td>\n",
              "      <td>0.111500</td>\n",
              "      <td>0.360200</td>\n",
              "      <td>0.757000</td>\n",
              "      <td>6.802000</td>\n",
              "      <td>0.001713</td>\n",
              "      <td>0.002252</td>\n",
              "      <td>0.000000</td>\n",
              "      <td>0.000000</td>\n",
              "      <td>0.007882</td>\n",
              "      <td>0.000895</td>\n",
              "      <td>7.930000</td>\n",
              "      <td>12.020000</td>\n",
              "      <td>50.410000</td>\n",
              "      <td>185.200000</td>\n",
              "      <td>0.071170</td>\n",
              "      <td>0.027290</td>\n",
              "      <td>0.000000</td>\n",
              "      <td>0.000000</td>\n",
              "      <td>0.156500</td>\n",
              "      <td>0.055040</td>\n",
              "      <td>0.000000</td>\n",
              "    </tr>\n",
              "    <tr>\n",
              "      <th>25%</th>\n",
              "      <td>11.700000</td>\n",
              "      <td>16.170000</td>\n",
              "      <td>75.170000</td>\n",
              "      <td>420.300000</td>\n",
              "      <td>0.086370</td>\n",
              "      <td>0.064920</td>\n",
              "      <td>0.029560</td>\n",
              "      <td>0.020310</td>\n",
              "      <td>0.161900</td>\n",
              "      <td>0.057700</td>\n",
              "      <td>0.232400</td>\n",
              "      <td>0.833900</td>\n",
              "      <td>1.606000</td>\n",
              "      <td>17.850000</td>\n",
              "      <td>0.005169</td>\n",
              "      <td>0.013080</td>\n",
              "      <td>0.015090</td>\n",
              "      <td>0.007638</td>\n",
              "      <td>0.015160</td>\n",
              "      <td>0.002248</td>\n",
              "      <td>13.010000</td>\n",
              "      <td>21.080000</td>\n",
              "      <td>84.110000</td>\n",
              "      <td>515.300000</td>\n",
              "      <td>0.116600</td>\n",
              "      <td>0.147200</td>\n",
              "      <td>0.114500</td>\n",
              "      <td>0.064930</td>\n",
              "      <td>0.250400</td>\n",
              "      <td>0.071460</td>\n",
              "      <td>0.000000</td>\n",
              "    </tr>\n",
              "    <tr>\n",
              "      <th>50%</th>\n",
              "      <td>13.370000</td>\n",
              "      <td>18.840000</td>\n",
              "      <td>86.240000</td>\n",
              "      <td>551.100000</td>\n",
              "      <td>0.095870</td>\n",
              "      <td>0.092630</td>\n",
              "      <td>0.061540</td>\n",
              "      <td>0.033500</td>\n",
              "      <td>0.179200</td>\n",
              "      <td>0.061540</td>\n",
              "      <td>0.324200</td>\n",
              "      <td>1.108000</td>\n",
              "      <td>2.287000</td>\n",
              "      <td>24.530000</td>\n",
              "      <td>0.006380</td>\n",
              "      <td>0.020450</td>\n",
              "      <td>0.025890</td>\n",
              "      <td>0.010930</td>\n",
              "      <td>0.018730</td>\n",
              "      <td>0.003187</td>\n",
              "      <td>14.970000</td>\n",
              "      <td>25.410000</td>\n",
              "      <td>97.660000</td>\n",
              "      <td>686.500000</td>\n",
              "      <td>0.131300</td>\n",
              "      <td>0.211900</td>\n",
              "      <td>0.226700</td>\n",
              "      <td>0.099930</td>\n",
              "      <td>0.282200</td>\n",
              "      <td>0.080040</td>\n",
              "      <td>1.000000</td>\n",
              "    </tr>\n",
              "    <tr>\n",
              "      <th>75%</th>\n",
              "      <td>15.780000</td>\n",
              "      <td>21.800000</td>\n",
              "      <td>104.100000</td>\n",
              "      <td>782.700000</td>\n",
              "      <td>0.105300</td>\n",
              "      <td>0.130400</td>\n",
              "      <td>0.130700</td>\n",
              "      <td>0.074000</td>\n",
              "      <td>0.195700</td>\n",
              "      <td>0.066120</td>\n",
              "      <td>0.478900</td>\n",
              "      <td>1.474000</td>\n",
              "      <td>3.357000</td>\n",
              "      <td>45.190000</td>\n",
              "      <td>0.008146</td>\n",
              "      <td>0.032450</td>\n",
              "      <td>0.042050</td>\n",
              "      <td>0.014710</td>\n",
              "      <td>0.023480</td>\n",
              "      <td>0.004558</td>\n",
              "      <td>18.790000</td>\n",
              "      <td>29.720000</td>\n",
              "      <td>125.400000</td>\n",
              "      <td>1084.000000</td>\n",
              "      <td>0.146000</td>\n",
              "      <td>0.339100</td>\n",
              "      <td>0.382900</td>\n",
              "      <td>0.161400</td>\n",
              "      <td>0.317900</td>\n",
              "      <td>0.092080</td>\n",
              "      <td>1.000000</td>\n",
              "    </tr>\n",
              "    <tr>\n",
              "      <th>max</th>\n",
              "      <td>28.110000</td>\n",
              "      <td>39.280000</td>\n",
              "      <td>188.500000</td>\n",
              "      <td>2501.000000</td>\n",
              "      <td>0.163400</td>\n",
              "      <td>0.345400</td>\n",
              "      <td>0.426800</td>\n",
              "      <td>0.201200</td>\n",
              "      <td>0.304000</td>\n",
              "      <td>0.097440</td>\n",
              "      <td>2.873000</td>\n",
              "      <td>4.885000</td>\n",
              "      <td>21.980000</td>\n",
              "      <td>542.200000</td>\n",
              "      <td>0.031130</td>\n",
              "      <td>0.135400</td>\n",
              "      <td>0.396000</td>\n",
              "      <td>0.052790</td>\n",
              "      <td>0.078950</td>\n",
              "      <td>0.029840</td>\n",
              "      <td>36.040000</td>\n",
              "      <td>49.540000</td>\n",
              "      <td>251.200000</td>\n",
              "      <td>4254.000000</td>\n",
              "      <td>0.222600</td>\n",
              "      <td>1.058000</td>\n",
              "      <td>1.252000</td>\n",
              "      <td>0.291000</td>\n",
              "      <td>0.663800</td>\n",
              "      <td>0.207500</td>\n",
              "      <td>1.000000</td>\n",
              "    </tr>\n",
              "  </tbody>\n",
              "</table>\n",
              "</div>"
            ],
            "text/plain": [
              "       mean radius  mean texture  ...  worst fractal dimension  benign_0__mal_1\n",
              "count   569.000000    569.000000  ...               569.000000       569.000000\n",
              "mean     14.127292     19.289649  ...                 0.083946         0.627417\n",
              "std       3.524049      4.301036  ...                 0.018061         0.483918\n",
              "min       6.981000      9.710000  ...                 0.055040         0.000000\n",
              "25%      11.700000     16.170000  ...                 0.071460         0.000000\n",
              "50%      13.370000     18.840000  ...                 0.080040         1.000000\n",
              "75%      15.780000     21.800000  ...                 0.092080         1.000000\n",
              "max      28.110000     39.280000  ...                 0.207500         1.000000\n",
              "\n",
              "[8 rows x 31 columns]"
            ]
          },
          "metadata": {},
          "execution_count": 5
        }
      ]
    },
    {
      "cell_type": "code",
      "metadata": {
        "colab": {
          "base_uri": "https://localhost:8080/",
          "height": 298
        },
        "id": "c3XZaGQ2MvQR",
        "outputId": "8b76787e-ed66-474f-c467-02b90f564327"
      },
      "source": [
        "sns.countplot(x = 'benign_0__mal_1', data = df)"
      ],
      "execution_count": null,
      "outputs": [
        {
          "output_type": "execute_result",
          "data": {
            "text/plain": [
              "<matplotlib.axes._subplots.AxesSubplot at 0x7fc978a34d90>"
            ]
          },
          "metadata": {},
          "execution_count": 6
        },
        {
          "output_type": "display_data",
          "data": {
            "image/png": "[encoded data removed]",
            "text/plain": [
              "<Figure size 432x288 with 1 Axes>"
            ]
          },
          "metadata": {
            "needs_background": "light"
          }
        }
      ]
    },
    {
      "cell_type": "code",
      "metadata": {
        "colab": {
          "base_uri": "https://localhost:8080/",
          "height": 391
        },
        "id": "6_yYIt8kM4zM",
        "outputId": "73e4e0e5-0714-4007-83b4-fffcdc5c9bde"
      },
      "source": [
        "df.corr()['benign_0__mal_1'][:-1].sort_values().plot(kind = 'bar')"
      ],
      "execution_count": null,
      "outputs": [
        {
          "output_type": "execute_result",
          "data": {
            "text/plain": [
              "<matplotlib.axes._subplots.AxesSubplot at 0x7fc9785036d0>"
            ]
          },
          "metadata": {},
          "execution_count": 7
        },
        {
          "output_type": "display_data",
          "data": {
            "image/png": "[encoded data removed]",
            "text/plain": [
              "<Figure size 432x288 with 1 Axes>"
            ]
          },
          "metadata": {
            "needs_background": "light"
          }
        }
      ]
    },
    {
      "cell_type": "code",
      "metadata": {
        "id": "qo2zCAxyNbBc"
      },
      "source": [
        "X = df.drop('benign_0__mal_1',axis=1).values\n",
        "y = df['benign_0__mal_1'].values"
      ],
      "execution_count": null,
      "outputs": []
    },
    {
      "cell_type": "code",
      "metadata": {
        "id": "UbVo0awPN8Km"
      },
      "source": [
        "from sklearn.model_selection import train_test_split"
      ],
      "execution_count": null,
      "outputs": []
    },
    {
      "cell_type": "code",
      "metadata": {
        "id": "-c55tGa7OABM"
      },
      "source": [
        "X_train, X_test, y_train, y_test = train_test_split(X,y,test_size=0.25,random_state=101)"
      ],
      "execution_count": null,
      "outputs": []
    },
    {
      "cell_type": "code",
      "metadata": {
        "id": "TzmoCJ8XOBoh"
      },
      "source": [
        "from sklearn.preprocessing import MinMaxScaler"
      ],
      "execution_count": null,
      "outputs": []
    },
    {
      "cell_type": "code",
      "metadata": {
        "id": "jFan5J-BOVr2"
      },
      "source": [
        "scaler = MinMaxScaler()"
      ],
      "execution_count": null,
      "outputs": []
    },
    {
      "cell_type": "code",
      "metadata": {
        "id": "-rp2R5yUOX1w"
      },
      "source": [
        "X_train = scaler.fit_transform(X_train)"
      ],
      "execution_count": null,
      "outputs": []
    },
    {
      "cell_type": "code",
      "metadata": {
        "id": "a-W8nKsYOaOS"
      },
      "source": [
        "X_test = scaler.transform(X_test)"
      ],
      "execution_count": null,
      "outputs": []
    },
    {
      "cell_type": "code",
      "metadata": {
        "id": "XwjN10owOcrm"
      },
      "source": [
        "import tensorflow as tf\n",
        "from tensorflow.keras.models import Sequential\n",
        "from tensorflow.keras.layers import Dense, Activation,Dropout"
      ],
      "execution_count": null,
      "outputs": []
    },
    {
      "cell_type": "code",
      "metadata": {
        "colab": {
          "base_uri": "https://localhost:8080/"
        },
        "id": "RKLtnzeyOur4",
        "outputId": "3978d6ed-1c27-4541-b8bd-8a0174616455"
      },
      "source": [
        "X_train.shape"
      ],
      "execution_count": null,
      "outputs": [
        {
          "output_type": "execute_result",
          "data": {
            "text/plain": [
              "(426, 30)"
            ]
          },
          "metadata": {},
          "execution_count": 16
        }
      ]
    },
    {
      "cell_type": "code",
      "metadata": {
        "id": "9Uy03LNaOz5M"
      },
      "source": [
        "model = Sequential()\n",
        "\n",
        "model.add(Dense(30, activation = 'relu'))\n",
        "model.add(Dense(15, activation = 'relu'))\n",
        "\n",
        "model.add(Dense(1, activation = 'sigmoid')) #binary classification\n",
        "\n",
        "model.compile(loss = 'binary_crossentropy', optimizer = 'adam')"
      ],
      "execution_count": null,
      "outputs": []
    },
    {
      "cell_type": "code",
      "metadata": {
        "colab": {
          "base_uri": "https://localhost:8080/",
          "height": 1000
        },
        "id": "qWlf4vOHPX2X",
        "outputId": "29b60250-03f0-4476-9f8d-3aa9a0c9e1ff"
      },
      "source": [
        "model.fit(x = X_train, y = y_train, epochs = 600, validation_data=(X_test, y_test))"
      ],
      "execution_count": null,
      "outputs": [
        {
          "output_type": "stream",
          "name": "stdout",
          "text": [
            "Epoch 1/600\n",
            "14/14 [==============================] - 1s 15ms/step - loss: 0.6764 - val_loss: 0.6636\n",
            "Epoch 2/600\n",
            "14/14 [==============================] - 0s 4ms/step - loss: 0.6437 - val_loss: 0.6292\n",
            "Epoch 3/600\n",
            "14/14 [==============================] - 0s 5ms/step - loss: 0.6124 - val_loss: 0.5982\n",
            "Epoch 4/600\n",
            "14/14 [==============================] - 0s 4ms/step - loss: 0.5776 - val_loss: 0.5637\n",
            "Epoch 5/600\n",
            "14/14 [==============================] - 0s 4ms/step - loss: 0.5419 - val_loss: 0.5226\n",
            "Epoch 6/600\n",
            "14/14 [==============================] - 0s 3ms/step - loss: 0.5014 - val_loss: 0.4805\n",
            "Epoch 7/600\n",
            "14/14 [==============================] - 0s 4ms/step - loss: 0.4585 - val_loss: 0.4352\n",
            "Epoch 8/600\n",
            "14/14 [==============================] - 0s 3ms/step - loss: 0.4149 - val_loss: 0.3906\n",
            "Epoch 9/600\n",
            "14/14 [==============================] - 0s 4ms/step - loss: 0.3726 - val_loss: 0.3481\n",
            "Epoch 10/600\n",
            "14/14 [==============================] - 0s 5ms/step - loss: 0.3357 - val_loss: 0.3124\n",
            "Epoch 11/600\n",
            "14/14 [==============================] - 0s 3ms/step - loss: 0.3023 - val_loss: 0.2792\n",
            "Epoch 12/600\n",
            "14/14 [==============================] - 0s 4ms/step - loss: 0.2769 - val_loss: 0.2539\n",
            "Epoch 13/600\n",
            "14/14 [==============================] - 0s 4ms/step - loss: 0.2534 - val_loss: 0.2322\n",
            "Epoch 14/600\n",
            "14/14 [==============================] - 0s 3ms/step - loss: 0.2341 - val_loss: 0.2157\n",
            "Epoch 15/600\n",
            "14/14 [==============================] - 0s 5ms/step - loss: 0.2208 - val_loss: 0.1990\n",
            "Epoch 16/600\n",
            "14/14 [==============================] - 0s 4ms/step - loss: 0.2085 - val_loss: 0.1932\n",
            "Epoch 17/600\n",
            "14/14 [==============================] - 0s 4ms/step - loss: 0.1975 - val_loss: 0.1795\n",
            "Epoch 18/600\n",
            "14/14 [==============================] - 0s 3ms/step - loss: 0.1866 - val_loss: 0.1702\n",
            "Epoch 19/600\n",
            "14/14 [==============================] - 0s 4ms/step - loss: 0.1738 - val_loss: 0.1650\n",
            "Epoch 20/600\n",
            "14/14 [==============================] - 0s 4ms/step - loss: 0.1674 - val_loss: 0.1589\n",
            "Epoch 21/600\n",
            "14/14 [==============================] - 0s 3ms/step - loss: 0.1591 - val_loss: 0.1506\n",
            "Epoch 22/600\n",
            "14/14 [==============================] - 0s 4ms/step - loss: 0.1503 - val_loss: 0.1485\n",
            "Epoch 23/600\n",
            "14/14 [==============================] - 0s 4ms/step - loss: 0.1445 - val_loss: 0.1402\n",
            "Epoch 24/600\n",
            "14/14 [==============================] - 0s 3ms/step - loss: 0.1400 - val_loss: 0.1397\n",
            "Epoch 25/600\n",
            "14/14 [==============================] - 0s 3ms/step - loss: 0.1321 - val_loss: 0.1320\n",
            "Epoch 26/600\n",
            "14/14 [==============================] - 0s 3ms/step - loss: 0.1267 - val_loss: 0.1336\n",
            "Epoch 27/600\n",
            "14/14 [==============================] - 0s 4ms/step - loss: 0.1224 - val_loss: 0.1284\n",
            "Epoch 28/600\n",
            "14/14 [==============================] - 0s 3ms/step - loss: 0.1178 - val_loss: 0.1293\n",
            "Epoch 29/600\n",
            "14/14 [==============================] - 0s 4ms/step - loss: 0.1155 - val_loss: 0.1244\n",
            "Epoch 30/600\n",
            "14/14 [==============================] - 0s 4ms/step - loss: 0.1091 - val_loss: 0.1200\n",
            "Epoch 31/600\n",
            "14/14 [==============================] - 0s 3ms/step - loss: 0.1052 - val_loss: 0.1204\n",
            "Epoch 32/600\n",
            "14/14 [==============================] - 0s 4ms/step - loss: 0.1032 - val_loss: 0.1162\n",
            "Epoch 33/600\n",
            "14/14 [==============================] - 0s 3ms/step - loss: 0.0994 - val_loss: 0.1168\n",
            "Epoch 34/600\n",
            "14/14 [==============================] - 0s 3ms/step - loss: 0.0957 - val_loss: 0.1163\n",
            "Epoch 35/600\n",
            "14/14 [==============================] - 0s 5ms/step - loss: 0.0935 - val_loss: 0.1133\n",
            "Epoch 36/600\n",
            "14/14 [==============================] - 0s 4ms/step - loss: 0.0903 - val_loss: 0.1150\n",
            "Epoch 37/600\n",
            "14/14 [==============================] - 0s 5ms/step - loss: 0.0885 - val_loss: 0.1125\n",
            "Epoch 38/600\n",
            "14/14 [==============================] - 0s 3ms/step - loss: 0.0884 - val_loss: 0.1181\n",
            "Epoch 39/600\n",
            " 1/14 [=>............................] - ETA: 0s - loss: 0.1089"
          ]
        },
        {
          "output_type": "error",
          "ename": "KeyboardInterrupt",
          "evalue": "ignored",
          "traceback": [
            "\u001b[0;31m---------------------------------------------------------------------------\u001b[0m",
            "\u001b[0;31mKeyboardInterrupt\u001b[0m                         Traceback (most recent call last)",
            "\u001b[0;32m<ipython-input-18-db756e8b4e09>\u001b[0m in \u001b[0;36m<module>\u001b[0;34m()\u001b[0m\n\u001b[0;32m----> 1\u001b[0;31m \u001b[0mmodel\u001b[0m\u001b[0;34m.\u001b[0m\u001b[0mfit\u001b[0m\u001b[0;34m(\u001b[0m\u001b[0mx\u001b[0m \u001b[0;34m=\u001b[0m \u001b[0mX_train\u001b[0m\u001b[0;34m,\u001b[0m \u001b[0my\u001b[0m \u001b[0;34m=\u001b[0m \u001b[0my_train\u001b[0m\u001b[0;34m,\u001b[0m \u001b[0mepochs\u001b[0m \u001b[0;34m=\u001b[0m \u001b[0;36m600\u001b[0m\u001b[0;34m,\u001b[0m \u001b[0mvalidation_data\u001b[0m\u001b[0;34m=\u001b[0m\u001b[0;34m(\u001b[0m\u001b[0mX_test\u001b[0m\u001b[0;34m,\u001b[0m \u001b[0my_test\u001b[0m\u001b[0;34m)\u001b[0m\u001b[0;34m)\u001b[0m\u001b[0;34m\u001b[0m\u001b[0;34m\u001b[0m\u001b[0m\n\u001b[0m",
            "\u001b[0;32m/usr/local/lib/python3.7/dist-packages/keras/utils/traceback_utils.py\u001b[0m in \u001b[0;36merror_handler\u001b[0;34m(*args, **kwargs)\u001b[0m\n\u001b[1;32m     62\u001b[0m     \u001b[0mfiltered_tb\u001b[0m \u001b[0;34m=\u001b[0m \u001b[0;32mNone\u001b[0m\u001b[0;34m\u001b[0m\u001b[0;34m\u001b[0m\u001b[0m\n\u001b[1;32m     63\u001b[0m     \u001b[0;32mtry\u001b[0m\u001b[0;34m:\u001b[0m\u001b[0;34m\u001b[0m\u001b[0;34m\u001b[0m\u001b[0m\n\u001b[0;32m---> 64\u001b[0;31m       \u001b[0;32mreturn\u001b[0m \u001b[0mfn\u001b[0m\u001b[0;34m(\u001b[0m\u001b[0;34m*\u001b[0m\u001b[0margs\u001b[0m\u001b[0;34m,\u001b[0m \u001b[0;34m**\u001b[0m\u001b[0mkwargs\u001b[0m\u001b[0;34m)\u001b[0m\u001b[0;34m\u001b[0m\u001b[0;34m\u001b[0m\u001b[0m\n\u001b[0m\u001b[1;32m     65\u001b[0m     \u001b[0;32mexcept\u001b[0m \u001b[0mException\u001b[0m \u001b[0;32mas\u001b[0m \u001b[0me\u001b[0m\u001b[0;34m:\u001b[0m  \u001b[0;31m# pylint: disable=broad-except\u001b[0m\u001b[0;34m\u001b[0m\u001b[0;34m\u001b[0m\u001b[0m\n\u001b[1;32m     66\u001b[0m       \u001b[0mfiltered_tb\u001b[0m \u001b[0;34m=\u001b[0m \u001b[0m_process_traceback_frames\u001b[0m\u001b[0;34m(\u001b[0m\u001b[0me\u001b[0m\u001b[0;34m.\u001b[0m\u001b[0m__traceback__\u001b[0m\u001b[0;34m)\u001b[0m\u001b[0;34m\u001b[0m\u001b[0;34m\u001b[0m\u001b[0m\n",
            "\u001b[0;32m/usr/local/lib/python3.7/dist-packages/keras/engine/training.py\u001b[0m in \u001b[0;36mfit\u001b[0;34m(self, x, y, batch_size, epochs, verbose, callbacks, validation_split, validation_data, shuffle, class_weight, sample_weight, initial_epoch, steps_per_epoch, validation_steps, validation_batch_size, validation_freq, max_queue_size, workers, use_multiprocessing)\u001b[0m\n\u001b[1;32m   1214\u001b[0m                 _r=1):\n\u001b[1;32m   1215\u001b[0m               \u001b[0mcallbacks\u001b[0m\u001b[0;34m.\u001b[0m\u001b[0mon_train_batch_begin\u001b[0m\u001b[0;34m(\u001b[0m\u001b[0mstep\u001b[0m\u001b[0;34m)\u001b[0m\u001b[0;34m\u001b[0m\u001b[0;34m\u001b[0m\u001b[0m\n\u001b[0;32m-> 1216\u001b[0;31m               \u001b[0mtmp_logs\u001b[0m \u001b[0;34m=\u001b[0m \u001b[0mself\u001b[0m\u001b[0;34m.\u001b[0m\u001b[0mtrain_function\u001b[0m\u001b[0;34m(\u001b[0m\u001b[0miterator\u001b[0m\u001b[0;34m)\u001b[0m\u001b[0;34m\u001b[0m\u001b[0;34m\u001b[0m\u001b[0m\n\u001b[0m\u001b[1;32m   1217\u001b[0m               \u001b[0;32mif\u001b[0m \u001b[0mdata_handler\u001b[0m\u001b[0;34m.\u001b[0m\u001b[0mshould_sync\u001b[0m\u001b[0;34m:\u001b[0m\u001b[0;34m\u001b[0m\u001b[0;34m\u001b[0m\u001b[0m\n\u001b[1;32m   1218\u001b[0m                 \u001b[0mcontext\u001b[0m\u001b[0;34m.\u001b[0m\u001b[0masync_wait\u001b[0m\u001b[0;34m(\u001b[0m\u001b[0;34m)\u001b[0m\u001b[0;34m\u001b[0m\u001b[0;34m\u001b[0m\u001b[0m\n",
            "\u001b[0;32m/usr/local/lib/python3.7/dist-packages/tensorflow/python/util/traceback_utils.py\u001b[0m in \u001b[0;36merror_handler\u001b[0;34m(*args, **kwargs)\u001b[0m\n\u001b[1;32m    148\u001b[0m     \u001b[0mfiltered_tb\u001b[0m \u001b[0;34m=\u001b[0m \u001b[0;32mNone\u001b[0m\u001b[0;34m\u001b[0m\u001b[0;34m\u001b[0m\u001b[0m\n\u001b[1;32m    149\u001b[0m     \u001b[0;32mtry\u001b[0m\u001b[0;34m:\u001b[0m\u001b[0;34m\u001b[0m\u001b[0;34m\u001b[0m\u001b[0m\n\u001b[0;32m--> 150\u001b[0;31m       \u001b[0;32mreturn\u001b[0m \u001b[0mfn\u001b[0m\u001b[0;34m(\u001b[0m\u001b[0;34m*\u001b[0m\u001b[0margs\u001b[0m\u001b[0;34m,\u001b[0m \u001b[0;34m**\u001b[0m\u001b[0mkwargs\u001b[0m\u001b[0;34m)\u001b[0m\u001b[0;34m\u001b[0m\u001b[0;34m\u001b[0m\u001b[0m\n\u001b[0m\u001b[1;32m    151\u001b[0m     \u001b[0;32mexcept\u001b[0m \u001b[0mException\u001b[0m \u001b[0;32mas\u001b[0m \u001b[0me\u001b[0m\u001b[0;34m:\u001b[0m\u001b[0;34m\u001b[0m\u001b[0;34m\u001b[0m\u001b[0m\n\u001b[1;32m    152\u001b[0m       \u001b[0mfiltered_tb\u001b[0m \u001b[0;34m=\u001b[0m \u001b[0m_process_traceback_frames\u001b[0m\u001b[0;34m(\u001b[0m\u001b[0me\u001b[0m\u001b[0;34m.\u001b[0m\u001b[0m__traceback__\u001b[0m\u001b[0;34m)\u001b[0m\u001b[0;34m\u001b[0m\u001b[0;34m\u001b[0m\u001b[0m\n",
            "\u001b[0;32m/usr/local/lib/python3.7/dist-packages/tensorflow/python/eager/def_function.py\u001b[0m in \u001b[0;36m__call__\u001b[0;34m(self, *args, **kwds)\u001b[0m\n\u001b[1;32m    908\u001b[0m \u001b[0;34m\u001b[0m\u001b[0m\n\u001b[1;32m    909\u001b[0m       \u001b[0;32mwith\u001b[0m \u001b[0mOptionalXlaContext\u001b[0m\u001b[0;34m(\u001b[0m\u001b[0mself\u001b[0m\u001b[0;34m.\u001b[0m\u001b[0m_jit_compile\u001b[0m\u001b[0;34m)\u001b[0m\u001b[0;34m:\u001b[0m\u001b[0;34m\u001b[0m\u001b[0;34m\u001b[0m\u001b[0m\n\u001b[0;32m--> 910\u001b[0;31m         \u001b[0mresult\u001b[0m \u001b[0;34m=\u001b[0m \u001b[0mself\u001b[0m\u001b[0;34m.\u001b[0m\u001b[0m_call\u001b[0m\u001b[0;34m(\u001b[0m\u001b[0;34m*\u001b[0m\u001b[0margs\u001b[0m\u001b[0;34m,\u001b[0m \u001b[0;34m**\u001b[0m\u001b[0mkwds\u001b[0m\u001b[0;34m)\u001b[0m\u001b[0;34m\u001b[0m\u001b[0;34m\u001b[0m\u001b[0m\n\u001b[0m\u001b[1;32m    911\u001b[0m \u001b[0;34m\u001b[0m\u001b[0m\n\u001b[1;32m    912\u001b[0m       \u001b[0mnew_tracing_count\u001b[0m \u001b[0;34m=\u001b[0m \u001b[0mself\u001b[0m\u001b[0;34m.\u001b[0m\u001b[0mexperimental_get_tracing_count\u001b[0m\u001b[0;34m(\u001b[0m\u001b[0;34m)\u001b[0m\u001b[0;34m\u001b[0m\u001b[0;34m\u001b[0m\u001b[0m\n",
            "\u001b[0;32m/usr/local/lib/python3.7/dist-packages/tensorflow/python/eager/def_function.py\u001b[0m in \u001b[0;36m_call\u001b[0;34m(self, *args, **kwds)\u001b[0m\n\u001b[1;32m    940\u001b[0m       \u001b[0;31m# In this case we have created variables on the first call, so we run the\u001b[0m\u001b[0;34m\u001b[0m\u001b[0;34m\u001b[0m\u001b[0;34m\u001b[0m\u001b[0m\n\u001b[1;32m    941\u001b[0m       \u001b[0;31m# defunned version which is guaranteed to never create variables.\u001b[0m\u001b[0;34m\u001b[0m\u001b[0;34m\u001b[0m\u001b[0;34m\u001b[0m\u001b[0m\n\u001b[0;32m--> 942\u001b[0;31m       \u001b[0;32mreturn\u001b[0m \u001b[0mself\u001b[0m\u001b[0;34m.\u001b[0m\u001b[0m_stateless_fn\u001b[0m\u001b[0;34m(\u001b[0m\u001b[0;34m*\u001b[0m\u001b[0margs\u001b[0m\u001b[0;34m,\u001b[0m \u001b[0;34m**\u001b[0m\u001b[0mkwds\u001b[0m\u001b[0;34m)\u001b[0m  \u001b[0;31m# pylint: disable=not-callable\u001b[0m\u001b[0;34m\u001b[0m\u001b[0;34m\u001b[0m\u001b[0m\n\u001b[0m\u001b[1;32m    943\u001b[0m     \u001b[0;32melif\u001b[0m \u001b[0mself\u001b[0m\u001b[0;34m.\u001b[0m\u001b[0m_stateful_fn\u001b[0m \u001b[0;32mis\u001b[0m \u001b[0;32mnot\u001b[0m \u001b[0;32mNone\u001b[0m\u001b[0;34m:\u001b[0m\u001b[0;34m\u001b[0m\u001b[0;34m\u001b[0m\u001b[0m\n\u001b[1;32m    944\u001b[0m       \u001b[0;31m# Release the lock early so that multiple threads can perform the call\u001b[0m\u001b[0;34m\u001b[0m\u001b[0;34m\u001b[0m\u001b[0;34m\u001b[0m\u001b[0m\n",
            "\u001b[0;32m/usr/local/lib/python3.7/dist-packages/tensorflow/python/eager/function.py\u001b[0m in \u001b[0;36m__call__\u001b[0;34m(self, *args, **kwargs)\u001b[0m\n\u001b[1;32m   3129\u001b[0m        filtered_flat_args) = self._maybe_define_function(args, kwargs)\n\u001b[1;32m   3130\u001b[0m     return graph_function._call_flat(\n\u001b[0;32m-> 3131\u001b[0;31m         filtered_flat_args, captured_inputs=graph_function.captured_inputs)  # pylint: disable=protected-access\n\u001b[0m\u001b[1;32m   3132\u001b[0m \u001b[0;34m\u001b[0m\u001b[0m\n\u001b[1;32m   3133\u001b[0m   \u001b[0;34m@\u001b[0m\u001b[0mproperty\u001b[0m\u001b[0;34m\u001b[0m\u001b[0;34m\u001b[0m\u001b[0m\n",
            "\u001b[0;32m/usr/local/lib/python3.7/dist-packages/tensorflow/python/eager/function.py\u001b[0m in \u001b[0;36m_call_flat\u001b[0;34m(self, args, captured_inputs, cancellation_manager)\u001b[0m\n\u001b[1;32m   1958\u001b[0m       \u001b[0;31m# No tape is watching; skip to running the function.\u001b[0m\u001b[0;34m\u001b[0m\u001b[0;34m\u001b[0m\u001b[0;34m\u001b[0m\u001b[0m\n\u001b[1;32m   1959\u001b[0m       return self._build_call_outputs(self._inference_function.call(\n\u001b[0;32m-> 1960\u001b[0;31m           ctx, args, cancellation_manager=cancellation_manager))\n\u001b[0m\u001b[1;32m   1961\u001b[0m     forward_backward = self._select_forward_and_backward_functions(\n\u001b[1;32m   1962\u001b[0m         \u001b[0margs\u001b[0m\u001b[0;34m,\u001b[0m\u001b[0;34m\u001b[0m\u001b[0;34m\u001b[0m\u001b[0m\n",
            "\u001b[0;32m/usr/local/lib/python3.7/dist-packages/tensorflow/python/eager/function.py\u001b[0m in \u001b[0;36mcall\u001b[0;34m(self, ctx, args, cancellation_manager)\u001b[0m\n\u001b[1;32m    601\u001b[0m               \u001b[0minputs\u001b[0m\u001b[0;34m=\u001b[0m\u001b[0margs\u001b[0m\u001b[0;34m,\u001b[0m\u001b[0;34m\u001b[0m\u001b[0;34m\u001b[0m\u001b[0m\n\u001b[1;32m    602\u001b[0m               \u001b[0mattrs\u001b[0m\u001b[0;34m=\u001b[0m\u001b[0mattrs\u001b[0m\u001b[0;34m,\u001b[0m\u001b[0;34m\u001b[0m\u001b[0;34m\u001b[0m\u001b[0m\n\u001b[0;32m--> 603\u001b[0;31m               ctx=ctx)\n\u001b[0m\u001b[1;32m    604\u001b[0m         \u001b[0;32melse\u001b[0m\u001b[0;34m:\u001b[0m\u001b[0;34m\u001b[0m\u001b[0;34m\u001b[0m\u001b[0m\n\u001b[1;32m    605\u001b[0m           outputs = execute.execute_with_cancellation(\n",
            "\u001b[0;32m/usr/local/lib/python3.7/dist-packages/tensorflow/python/eager/execute.py\u001b[0m in \u001b[0;36mquick_execute\u001b[0;34m(op_name, num_outputs, inputs, attrs, ctx, name)\u001b[0m\n\u001b[1;32m     57\u001b[0m     \u001b[0mctx\u001b[0m\u001b[0;34m.\u001b[0m\u001b[0mensure_initialized\u001b[0m\u001b[0;34m(\u001b[0m\u001b[0;34m)\u001b[0m\u001b[0;34m\u001b[0m\u001b[0;34m\u001b[0m\u001b[0m\n\u001b[1;32m     58\u001b[0m     tensors = pywrap_tfe.TFE_Py_Execute(ctx._handle, device_name, op_name,\n\u001b[0;32m---> 59\u001b[0;31m                                         inputs, attrs, num_outputs)\n\u001b[0m\u001b[1;32m     60\u001b[0m   \u001b[0;32mexcept\u001b[0m \u001b[0mcore\u001b[0m\u001b[0;34m.\u001b[0m\u001b[0m_NotOkStatusException\u001b[0m \u001b[0;32mas\u001b[0m \u001b[0me\u001b[0m\u001b[0;34m:\u001b[0m\u001b[0;34m\u001b[0m\u001b[0;34m\u001b[0m\u001b[0m\n\u001b[1;32m     61\u001b[0m     \u001b[0;32mif\u001b[0m \u001b[0mname\u001b[0m \u001b[0;32mis\u001b[0m \u001b[0;32mnot\u001b[0m \u001b[0;32mNone\u001b[0m\u001b[0;34m:\u001b[0m\u001b[0;34m\u001b[0m\u001b[0;34m\u001b[0m\u001b[0m\n",
            "\u001b[0;31mKeyboardInterrupt\u001b[0m: "
          ]
        }
      ]
    },
    {
      "cell_type": "code",
      "metadata": {
        "id": "yakPIr2_Pu3k"
      },
      "source": [
        "losses = pd.DataFrame(model.history.history)"
      ],
      "execution_count": null,
      "outputs": []
    },
    {
      "cell_type": "code",
      "metadata": {
        "colab": {
          "base_uri": "https://localhost:8080/",
          "height": 282
        },
        "id": "w9-yFxoqP-Cj",
        "outputId": "92cf9ca6-87e9-4ed4-d345-d44b1ee67f1b"
      },
      "source": [
        "losses.plot()"
      ],
      "execution_count": null,
      "outputs": [
        {
          "output_type": "execute_result",
          "data": {
            "text/plain": [
              "<matplotlib.axes._subplots.AxesSubplot at 0x7fcf26d87190>"
            ]
          },
          "metadata": {},
          "execution_count": 31
        },
        {
          "output_type": "display_data",
          "data": {
            "image/png": "[encoded data removed]",
            "text/plain": [
              "<Figure size 432x288 with 1 Axes>"
            ]
          },
          "metadata": {
            "needs_background": "light"
          }
        }
      ]
    },
    {
      "cell_type": "code",
      "metadata": {
        "id": "5etbObxXQCmk"
      },
      "source": [
        "#we see a lot of overfitting because of validation loss increasing drastically after 70 epochs, over fitting to the data set\n",
        "#we can use early stopping in order to check  when to stop training\n"
      ],
      "execution_count": null,
      "outputs": []
    },
    {
      "cell_type": "code",
      "metadata": {
        "id": "Zm1xm7ACQWtw"
      },
      "source": [
        "from tensorflow.keras.callbacks import EarlyStopping"
      ],
      "execution_count": null,
      "outputs": []
    },
    {
      "cell_type": "code",
      "metadata": {
        "id": "5NacJqIUQWgX"
      },
      "source": [
        "model = Sequential()\n",
        "\n",
        "model.add(Dense(30, activation = 'relu'))\n",
        "model.add(Dense(15, activation = 'relu'))\n",
        "\n",
        "model.add(Dense(1, activation = 'sigmoid')) #binary classification\n",
        "\n",
        "model.compile(loss = 'binary_crossentropy', optimizer = 'adam')"
      ],
      "execution_count": null,
      "outputs": []
    },
    {
      "cell_type": "code",
      "metadata": {
        "id": "tYmYu7CLQafS"
      },
      "source": [
        "early_stop = EarlyStopping(monitor='val_loss', mode ='min', verbose = 1, patience = 25)"
      ],
      "execution_count": null,
      "outputs": []
    },
    {
      "cell_type": "code",
      "metadata": {
        "colab": {
          "base_uri": "https://localhost:8080/"
        },
        "id": "MzrEVL6IQ4qg",
        "outputId": "a8c19c64-995d-45f4-f3f6-cd3ee332e15b"
      },
      "source": [
        "model.fit(x = X_train, y = y_train, epochs = 600, validation_data=(X_test, y_test),\n",
        "          callbacks = [early_stop])"
      ],
      "execution_count": null,
      "outputs": [
        {
          "output_type": "stream",
          "name": "stdout",
          "text": [
            "Epoch 1/600\n",
            "14/14 [==============================] - 1s 12ms/step - loss: 0.6756 - val_loss: 0.6517\n",
            "Epoch 2/600\n",
            "14/14 [==============================] - 0s 5ms/step - loss: 0.6282 - val_loss: 0.6130\n",
            "Epoch 3/600\n",
            "14/14 [==============================] - 0s 4ms/step - loss: 0.5835 - val_loss: 0.5645\n",
            "Epoch 4/600\n",
            "14/14 [==============================] - 0s 5ms/step - loss: 0.5363 - val_loss: 0.5175\n",
            "Epoch 5/600\n",
            "14/14 [==============================] - 0s 5ms/step - loss: 0.4907 - val_loss: 0.4710\n",
            "Epoch 6/600\n",
            "14/14 [==============================] - 0s 5ms/step - loss: 0.4455 - val_loss: 0.4240\n",
            "Epoch 7/600\n",
            "14/14 [==============================] - 0s 4ms/step - loss: 0.4008 - val_loss: 0.3728\n",
            "Epoch 8/600\n",
            "14/14 [==============================] - 0s 4ms/step - loss: 0.3543 - val_loss: 0.3281\n",
            "Epoch 9/600\n",
            "14/14 [==============================] - 0s 3ms/step - loss: 0.3154 - val_loss: 0.2911\n",
            "Epoch 10/600\n",
            "14/14 [==============================] - 0s 4ms/step - loss: 0.2823 - val_loss: 0.2585\n",
            "Epoch 11/600\n",
            "14/14 [==============================] - 0s 4ms/step - loss: 0.2563 - val_loss: 0.2329\n",
            "Epoch 12/600\n",
            "14/14 [==============================] - 0s 5ms/step - loss: 0.2323 - val_loss: 0.2159\n",
            "Epoch 13/600\n",
            "14/14 [==============================] - 0s 4ms/step - loss: 0.2144 - val_loss: 0.1966\n",
            "Epoch 14/600\n",
            "14/14 [==============================] - 0s 4ms/step - loss: 0.2016 - val_loss: 0.1854\n",
            "Epoch 15/600\n",
            "14/14 [==============================] - 0s 4ms/step - loss: 0.1862 - val_loss: 0.1735\n",
            "Epoch 16/600\n",
            "14/14 [==============================] - 0s 4ms/step - loss: 0.1752 - val_loss: 0.1666\n",
            "Epoch 17/600\n",
            "14/14 [==============================] - 0s 3ms/step - loss: 0.1653 - val_loss: 0.1585\n",
            "Epoch 18/600\n",
            "14/14 [==============================] - 0s 4ms/step - loss: 0.1565 - val_loss: 0.1510\n",
            "Epoch 19/600\n",
            "14/14 [==============================] - 0s 4ms/step - loss: 0.1468 - val_loss: 0.1473\n",
            "Epoch 20/600\n",
            "14/14 [==============================] - 0s 5ms/step - loss: 0.1419 - val_loss: 0.1408\n",
            "Epoch 21/600\n",
            "14/14 [==============================] - 0s 4ms/step - loss: 0.1320 - val_loss: 0.1406\n",
            "Epoch 22/600\n",
            "14/14 [==============================] - 0s 4ms/step - loss: 0.1251 - val_loss: 0.1340\n",
            "Epoch 23/600\n",
            "14/14 [==============================] - 0s 4ms/step - loss: 0.1198 - val_loss: 0.1322\n",
            "Epoch 24/600\n",
            "14/14 [==============================] - 0s 4ms/step - loss: 0.1137 - val_loss: 0.1294\n",
            "Epoch 25/600\n",
            "14/14 [==============================] - 0s 4ms/step - loss: 0.1093 - val_loss: 0.1293\n",
            "Epoch 26/600\n",
            "14/14 [==============================] - 0s 4ms/step - loss: 0.1043 - val_loss: 0.1236\n",
            "Epoch 27/600\n",
            "14/14 [==============================] - 0s 4ms/step - loss: 0.1014 - val_loss: 0.1275\n",
            "Epoch 28/600\n",
            "14/14 [==============================] - 0s 4ms/step - loss: 0.0971 - val_loss: 0.1193\n",
            "Epoch 29/600\n",
            "14/14 [==============================] - 0s 3ms/step - loss: 0.0936 - val_loss: 0.1203\n",
            "Epoch 30/600\n",
            "14/14 [==============================] - 0s 5ms/step - loss: 0.0906 - val_loss: 0.1200\n",
            "Epoch 31/600\n",
            "14/14 [==============================] - 0s 5ms/step - loss: 0.0897 - val_loss: 0.1190\n",
            "Epoch 32/600\n",
            "14/14 [==============================] - 0s 4ms/step - loss: 0.0851 - val_loss: 0.1161\n",
            "Epoch 33/600\n",
            "14/14 [==============================] - 0s 5ms/step - loss: 0.0822 - val_loss: 0.1238\n",
            "Epoch 34/600\n",
            "14/14 [==============================] - 0s 3ms/step - loss: 0.0824 - val_loss: 0.1144\n",
            "Epoch 35/600\n",
            "14/14 [==============================] - 0s 4ms/step - loss: 0.0785 - val_loss: 0.1214\n",
            "Epoch 36/600\n",
            "14/14 [==============================] - 0s 5ms/step - loss: 0.0762 - val_loss: 0.1149\n",
            "Epoch 37/600\n",
            "14/14 [==============================] - 0s 5ms/step - loss: 0.0750 - val_loss: 0.1141\n",
            "Epoch 38/600\n",
            "14/14 [==============================] - 0s 5ms/step - loss: 0.0728 - val_loss: 0.1152\n",
            "Epoch 39/600\n",
            "14/14 [==============================] - 0s 5ms/step - loss: 0.0711 - val_loss: 0.1148\n",
            "Epoch 40/600\n",
            "14/14 [==============================] - 0s 4ms/step - loss: 0.0693 - val_loss: 0.1139\n",
            "Epoch 41/600\n",
            "14/14 [==============================] - 0s 5ms/step - loss: 0.0713 - val_loss: 0.1140\n",
            "Epoch 42/600\n",
            "14/14 [==============================] - 0s 4ms/step - loss: 0.0684 - val_loss: 0.1190\n",
            "Epoch 43/600\n",
            "14/14 [==============================] - 0s 4ms/step - loss: 0.0664 - val_loss: 0.1166\n",
            "Epoch 44/600\n",
            "14/14 [==============================] - 0s 4ms/step - loss: 0.0689 - val_loss: 0.1183\n",
            "Epoch 45/600\n",
            "14/14 [==============================] - 0s 5ms/step - loss: 0.0646 - val_loss: 0.1181\n",
            "Epoch 46/600\n",
            "14/14 [==============================] - 0s 3ms/step - loss: 0.0646 - val_loss: 0.1164\n",
            "Epoch 47/600\n",
            "14/14 [==============================] - 0s 3ms/step - loss: 0.0632 - val_loss: 0.1120\n",
            "Epoch 48/600\n",
            "14/14 [==============================] - 0s 4ms/step - loss: 0.0618 - val_loss: 0.1155\n",
            "Epoch 49/600\n",
            "14/14 [==============================] - 0s 3ms/step - loss: 0.0604 - val_loss: 0.1139\n",
            "Epoch 50/600\n",
            "14/14 [==============================] - 0s 4ms/step - loss: 0.0594 - val_loss: 0.1160\n",
            "Epoch 51/600\n",
            "14/14 [==============================] - 0s 5ms/step - loss: 0.0596 - val_loss: 0.1187\n",
            "Epoch 52/600\n",
            "14/14 [==============================] - 0s 3ms/step - loss: 0.0598 - val_loss: 0.1143\n",
            "Epoch 53/600\n",
            "14/14 [==============================] - 0s 5ms/step - loss: 0.0588 - val_loss: 0.1194\n",
            "Epoch 54/600\n",
            "14/14 [==============================] - 0s 4ms/step - loss: 0.0572 - val_loss: 0.1157\n",
            "Epoch 55/600\n",
            "14/14 [==============================] - 0s 4ms/step - loss: 0.0566 - val_loss: 0.1137\n",
            "Epoch 56/600\n",
            "14/14 [==============================] - 0s 4ms/step - loss: 0.0607 - val_loss: 0.1110\n",
            "Epoch 57/600\n",
            "14/14 [==============================] - 0s 3ms/step - loss: 0.0558 - val_loss: 0.1207\n",
            "Epoch 58/600\n",
            "14/14 [==============================] - 0s 4ms/step - loss: 0.0558 - val_loss: 0.1165\n",
            "Epoch 59/600\n",
            "14/14 [==============================] - 0s 3ms/step - loss: 0.0604 - val_loss: 0.1185\n",
            "Epoch 60/600\n",
            "14/14 [==============================] - 0s 5ms/step - loss: 0.0537 - val_loss: 0.1141\n",
            "Epoch 61/600\n",
            "14/14 [==============================] - 0s 3ms/step - loss: 0.0544 - val_loss: 0.1107\n",
            "Epoch 62/600\n",
            "14/14 [==============================] - 0s 3ms/step - loss: 0.0536 - val_loss: 0.1241\n",
            "Epoch 63/600\n",
            "14/14 [==============================] - 0s 5ms/step - loss: 0.0532 - val_loss: 0.1103\n",
            "Epoch 64/600\n",
            "14/14 [==============================] - 0s 4ms/step - loss: 0.0525 - val_loss: 0.1171\n",
            "Epoch 65/600\n",
            "14/14 [==============================] - 0s 3ms/step - loss: 0.0514 - val_loss: 0.1134\n",
            "Epoch 66/600\n",
            "14/14 [==============================] - 0s 5ms/step - loss: 0.0511 - val_loss: 0.1135\n",
            "Epoch 67/600\n",
            "14/14 [==============================] - 0s 3ms/step - loss: 0.0505 - val_loss: 0.1164\n",
            "Epoch 68/600\n",
            "14/14 [==============================] - 0s 4ms/step - loss: 0.0510 - val_loss: 0.1185\n",
            "Epoch 69/600\n",
            "14/14 [==============================] - 0s 4ms/step - loss: 0.0495 - val_loss: 0.1119\n",
            "Epoch 70/600\n",
            "14/14 [==============================] - 0s 4ms/step - loss: 0.0536 - val_loss: 0.1224\n",
            "Epoch 71/600\n",
            "14/14 [==============================] - 0s 4ms/step - loss: 0.0517 - val_loss: 0.1155\n",
            "Epoch 72/600\n",
            "14/14 [==============================] - 0s 3ms/step - loss: 0.0491 - val_loss: 0.1167\n",
            "Epoch 73/600\n",
            "14/14 [==============================] - 0s 4ms/step - loss: 0.0506 - val_loss: 0.1263\n",
            "Epoch 74/600\n",
            "14/14 [==============================] - 0s 3ms/step - loss: 0.0471 - val_loss: 0.1136\n",
            "Epoch 75/600\n",
            "14/14 [==============================] - 0s 5ms/step - loss: 0.0498 - val_loss: 0.1243\n",
            "Epoch 76/600\n",
            "14/14 [==============================] - 0s 5ms/step - loss: 0.0494 - val_loss: 0.1140\n",
            "Epoch 77/600\n",
            "14/14 [==============================] - 0s 4ms/step - loss: 0.0480 - val_loss: 0.1153\n",
            "Epoch 78/600\n",
            "14/14 [==============================] - 0s 4ms/step - loss: 0.0474 - val_loss: 0.1191\n",
            "Epoch 79/600\n",
            "14/14 [==============================] - 0s 3ms/step - loss: 0.0481 - val_loss: 0.1148\n",
            "Epoch 80/600\n",
            "14/14 [==============================] - 0s 3ms/step - loss: 0.0465 - val_loss: 0.1155\n",
            "Epoch 81/600\n",
            "14/14 [==============================] - 0s 5ms/step - loss: 0.0475 - val_loss: 0.1141\n",
            "Epoch 82/600\n",
            "14/14 [==============================] - 0s 4ms/step - loss: 0.0458 - val_loss: 0.1164\n",
            "Epoch 83/600\n",
            "14/14 [==============================] - 0s 4ms/step - loss: 0.0458 - val_loss: 0.1160\n",
            "Epoch 84/600\n",
            "14/14 [==============================] - 0s 3ms/step - loss: 0.0459 - val_loss: 0.1149\n",
            "Epoch 85/600\n",
            "14/14 [==============================] - 0s 3ms/step - loss: 0.0473 - val_loss: 0.1213\n",
            "Epoch 86/600\n",
            "14/14 [==============================] - 0s 4ms/step - loss: 0.0510 - val_loss: 0.1210\n",
            "Epoch 87/600\n",
            "14/14 [==============================] - 0s 3ms/step - loss: 0.0507 - val_loss: 0.1185\n",
            "Epoch 88/600\n",
            "14/14 [==============================] - 0s 3ms/step - loss: 0.0450 - val_loss: 0.1168\n",
            "Epoch 00088: early stopping\n"
          ]
        },
        {
          "output_type": "execute_result",
          "data": {
            "text/plain": [
              "<keras.callbacks.History at 0x7fc90c88e290>"
            ]
          },
          "metadata": {},
          "execution_count": 25
        }
      ]
    },
    {
      "cell_type": "code",
      "metadata": {
        "colab": {
          "base_uri": "https://localhost:8080/",
          "height": 284
        },
        "id": "MT0UlCxivXYW",
        "outputId": "abcc7714-0890-4691-8a01-d163682ca340"
      },
      "source": [
        "model.loss = pd.DataFrame(model.history.history)\n",
        "model.loss.plot()"
      ],
      "execution_count": null,
      "outputs": [
        {
          "output_type": "execute_result",
          "data": {
            "text/plain": [
              "<matplotlib.axes._subplots.AxesSubplot at 0x7fc90fe9bf90>"
            ]
          },
          "metadata": {},
          "execution_count": 26
        },
        {
          "output_type": "display_data",
          "data": {
            "image/png": "[encoded data removed]",
            "text/plain": [
              "<Figure size 432x288 with 1 Axes>"
            ]
          },
          "metadata": {
            "needs_background": "light"
          }
        }
      ]
    },
    {
      "cell_type": "code",
      "metadata": {
        "id": "SQIyWmgov2ZA"
      },
      "source": [
        "from tensorflow.keras.layers import Dropout"
      ],
      "execution_count": null,
      "outputs": []
    },
    {
      "cell_type": "code",
      "metadata": {
        "id": "OnqKB9g0vnF2"
      },
      "source": [
        "# drop put layers -- turn off neurons randomly in order to prevent over fitting\n",
        "\n",
        "model = Sequential()\n",
        "\n",
        "model.add(Dense(30, activation = 'relu'))\n",
        "model.add(Dropout(0.5))\n",
        "#half neuron during each batch of data would be turned off\n",
        "model.add(Dense(15, activation = 'relu'))\n",
        "model.add(Dropout(0.5))\n",
        "\n",
        "model.add(Dense(1, activation = 'sigmoid')) #binary classification\n",
        "\n",
        "model.compile(loss = 'binary_crossentropy', optimizer = 'adam')"
      ],
      "execution_count": null,
      "outputs": []
    },
    {
      "cell_type": "code",
      "metadata": {
        "id": "VfETSuYIv3w-"
      },
      "source": [
        "early_stop = EarlyStopping(monitor='val_loss', mode ='min', verbose = 1, patience = 25)"
      ],
      "execution_count": null,
      "outputs": []
    },
    {
      "cell_type": "code",
      "metadata": {
        "colab": {
          "base_uri": "https://localhost:8080/"
        },
        "id": "EM_JN1DWwO0T",
        "outputId": "68ace539-3a75-4a6e-db80-8e52cbf1322b"
      },
      "source": [
        "model.fit(x = X_train, y = y_train, epochs = 600, validation_data=(X_test, y_test),\n",
        "          callbacks = [early_stop])"
      ],
      "execution_count": null,
      "outputs": [
        {
          "output_type": "stream",
          "name": "stdout",
          "text": [
            "Epoch 1/600\n",
            "14/14 [==============================] - 1s 13ms/step - loss: 0.6930 - val_loss: 0.6809\n",
            "Epoch 2/600\n",
            "14/14 [==============================] - 0s 5ms/step - loss: 0.6706 - val_loss: 0.6648\n",
            "Epoch 3/600\n",
            "14/14 [==============================] - 0s 3ms/step - loss: 0.6651 - val_loss: 0.6462\n",
            "Epoch 4/600\n",
            "14/14 [==============================] - 0s 4ms/step - loss: 0.6536 - val_loss: 0.6302\n",
            "Epoch 5/600\n",
            "14/14 [==============================] - 0s 5ms/step - loss: 0.6401 - val_loss: 0.6149\n",
            "Epoch 6/600\n",
            "14/14 [==============================] - 0s 3ms/step - loss: 0.6243 - val_loss: 0.6002\n",
            "Epoch 7/600\n",
            "14/14 [==============================] - 0s 5ms/step - loss: 0.6047 - val_loss: 0.5845\n",
            "Epoch 8/600\n",
            "14/14 [==============================] - 0s 5ms/step - loss: 0.5917 - val_loss: 0.5708\n",
            "Epoch 9/600\n",
            "14/14 [==============================] - 0s 5ms/step - loss: 0.5889 - val_loss: 0.5559\n",
            "Epoch 10/600\n",
            "14/14 [==============================] - 0s 4ms/step - loss: 0.5670 - val_loss: 0.5332\n",
            "Epoch 11/600\n",
            "14/14 [==============================] - 0s 5ms/step - loss: 0.5396 - val_loss: 0.5063\n",
            "Epoch 12/600\n",
            "14/14 [==============================] - 0s 5ms/step - loss: 0.5404 - val_loss: 0.4942\n",
            "Epoch 13/600\n",
            "14/14 [==============================] - 0s 4ms/step - loss: 0.5072 - val_loss: 0.4654\n",
            "Epoch 14/600\n",
            "14/14 [==============================] - 0s 5ms/step - loss: 0.4909 - val_loss: 0.4451\n",
            "Epoch 15/600\n",
            "14/14 [==============================] - 0s 4ms/step - loss: 0.4754 - val_loss: 0.4208\n",
            "Epoch 16/600\n",
            "14/14 [==============================] - 0s 5ms/step - loss: 0.4455 - val_loss: 0.3948\n",
            "Epoch 17/600\n",
            "14/14 [==============================] - 0s 5ms/step - loss: 0.4633 - val_loss: 0.3741\n",
            "Epoch 18/600\n",
            "14/14 [==============================] - 0s 3ms/step - loss: 0.4258 - val_loss: 0.3436\n",
            "Epoch 19/600\n",
            "14/14 [==============================] - 0s 4ms/step - loss: 0.4144 - val_loss: 0.3313\n",
            "Epoch 20/600\n",
            "14/14 [==============================] - 0s 4ms/step - loss: 0.3766 - val_loss: 0.3003\n",
            "Epoch 21/600\n",
            "14/14 [==============================] - 0s 3ms/step - loss: 0.3830 - val_loss: 0.2752\n",
            "Epoch 22/600\n",
            "14/14 [==============================] - 0s 6ms/step - loss: 0.3607 - val_loss: 0.2646\n",
            "Epoch 23/600\n",
            "14/14 [==============================] - 0s 5ms/step - loss: 0.3606 - val_loss: 0.2577\n",
            "Epoch 24/600\n",
            "14/14 [==============================] - 0s 4ms/step - loss: 0.3356 - val_loss: 0.2447\n",
            "Epoch 25/600\n",
            "14/14 [==============================] - 0s 4ms/step - loss: 0.3476 - val_loss: 0.2345\n",
            "Epoch 26/600\n",
            "14/14 [==============================] - 0s 5ms/step - loss: 0.2985 - val_loss: 0.2180\n",
            "Epoch 27/600\n",
            "14/14 [==============================] - 0s 4ms/step - loss: 0.2967 - val_loss: 0.2115\n",
            "Epoch 28/600\n",
            "14/14 [==============================] - 0s 3ms/step - loss: 0.3141 - val_loss: 0.2069\n",
            "Epoch 29/600\n",
            "14/14 [==============================] - 0s 3ms/step - loss: 0.2708 - val_loss: 0.1920\n",
            "Epoch 30/600\n",
            "14/14 [==============================] - 0s 3ms/step - loss: 0.2747 - val_loss: 0.1878\n",
            "Epoch 31/600\n",
            "14/14 [==============================] - 0s 5ms/step - loss: 0.2450 - val_loss: 0.1738\n",
            "Epoch 32/600\n",
            "14/14 [==============================] - 0s 5ms/step - loss: 0.2825 - val_loss: 0.1833\n",
            "Epoch 33/600\n",
            "14/14 [==============================] - 0s 4ms/step - loss: 0.2573 - val_loss: 0.1703\n",
            "Epoch 34/600\n",
            "14/14 [==============================] - 0s 5ms/step - loss: 0.2526 - val_loss: 0.1644\n",
            "Epoch 35/600\n",
            "14/14 [==============================] - 0s 5ms/step - loss: 0.2382 - val_loss: 0.1643\n",
            "Epoch 36/600\n",
            "14/14 [==============================] - 0s 3ms/step - loss: 0.2328 - val_loss: 0.1538\n",
            "Epoch 37/600\n",
            "14/14 [==============================] - 0s 3ms/step - loss: 0.2384 - val_loss: 0.1528\n",
            "Epoch 38/600\n",
            "14/14 [==============================] - 0s 4ms/step - loss: 0.2395 - val_loss: 0.1520\n",
            "Epoch 39/600\n",
            "14/14 [==============================] - 0s 4ms/step - loss: 0.2266 - val_loss: 0.1435\n",
            "Epoch 40/600\n",
            "14/14 [==============================] - 0s 3ms/step - loss: 0.2336 - val_loss: 0.1396\n",
            "Epoch 41/600\n",
            "14/14 [==============================] - 0s 3ms/step - loss: 0.2050 - val_loss: 0.1395\n",
            "Epoch 42/600\n",
            "14/14 [==============================] - 0s 3ms/step - loss: 0.2089 - val_loss: 0.1368\n",
            "Epoch 43/600\n",
            "14/14 [==============================] - 0s 3ms/step - loss: 0.2126 - val_loss: 0.1302\n",
            "Epoch 44/600\n",
            "14/14 [==============================] - 0s 5ms/step - loss: 0.1920 - val_loss: 0.1338\n",
            "Epoch 45/600\n",
            "14/14 [==============================] - 0s 4ms/step - loss: 0.1901 - val_loss: 0.1238\n",
            "Epoch 46/600\n",
            "14/14 [==============================] - 0s 3ms/step - loss: 0.1870 - val_loss: 0.1339\n",
            "Epoch 47/600\n",
            "14/14 [==============================] - 0s 3ms/step - loss: 0.2033 - val_loss: 0.1240\n",
            "Epoch 48/600\n",
            "14/14 [==============================] - 0s 3ms/step - loss: 0.1948 - val_loss: 0.1204\n",
            "Epoch 49/600\n",
            "14/14 [==============================] - 0s 3ms/step - loss: 0.1833 - val_loss: 0.1248\n",
            "Epoch 50/600\n",
            "14/14 [==============================] - 0s 3ms/step - loss: 0.1667 - val_loss: 0.1185\n",
            "Epoch 51/600\n",
            "14/14 [==============================] - 0s 4ms/step - loss: 0.1535 - val_loss: 0.1199\n",
            "Epoch 52/600\n",
            "14/14 [==============================] - 0s 4ms/step - loss: 0.1524 - val_loss: 0.1146\n",
            "Epoch 53/600\n",
            "14/14 [==============================] - 0s 5ms/step - loss: 0.1712 - val_loss: 0.1141\n",
            "Epoch 54/600\n",
            "14/14 [==============================] - 0s 5ms/step - loss: 0.1686 - val_loss: 0.1130\n",
            "Epoch 55/600\n",
            "14/14 [==============================] - 0s 3ms/step - loss: 0.1667 - val_loss: 0.1099\n",
            "Epoch 56/600\n",
            "14/14 [==============================] - 0s 3ms/step - loss: 0.1466 - val_loss: 0.1198\n",
            "Epoch 57/600\n",
            "14/14 [==============================] - 0s 4ms/step - loss: 0.1509 - val_loss: 0.1143\n",
            "Epoch 58/600\n",
            "14/14 [==============================] - 0s 5ms/step - loss: 0.1704 - val_loss: 0.1125\n",
            "Epoch 59/600\n",
            "14/14 [==============================] - 0s 5ms/step - loss: 0.1554 - val_loss: 0.1077\n",
            "Epoch 60/600\n",
            "14/14 [==============================] - 0s 4ms/step - loss: 0.1324 - val_loss: 0.1052\n",
            "Epoch 61/600\n",
            "14/14 [==============================] - 0s 5ms/step - loss: 0.1327 - val_loss: 0.1010\n",
            "Epoch 62/600\n",
            "14/14 [==============================] - 0s 4ms/step - loss: 0.1393 - val_loss: 0.1077\n",
            "Epoch 63/600\n",
            "14/14 [==============================] - 0s 5ms/step - loss: 0.1393 - val_loss: 0.1020\n",
            "Epoch 64/600\n",
            "14/14 [==============================] - 0s 4ms/step - loss: 0.1315 - val_loss: 0.1015\n",
            "Epoch 65/600\n",
            "14/14 [==============================] - 0s 4ms/step - loss: 0.1608 - val_loss: 0.1016\n",
            "Epoch 66/600\n",
            "14/14 [==============================] - 0s 4ms/step - loss: 0.1166 - val_loss: 0.1094\n",
            "Epoch 67/600\n",
            "14/14 [==============================] - 0s 5ms/step - loss: 0.1254 - val_loss: 0.1089\n",
            "Epoch 68/600\n",
            "14/14 [==============================] - 0s 4ms/step - loss: 0.1379 - val_loss: 0.0965\n",
            "Epoch 69/600\n",
            "14/14 [==============================] - 0s 4ms/step - loss: 0.1318 - val_loss: 0.1084\n",
            "Epoch 70/600\n",
            "14/14 [==============================] - 0s 3ms/step - loss: 0.1241 - val_loss: 0.1153\n",
            "Epoch 71/600\n",
            "14/14 [==============================] - 0s 3ms/step - loss: 0.1196 - val_loss: 0.0996\n",
            "Epoch 72/600\n",
            "14/14 [==============================] - 0s 3ms/step - loss: 0.1218 - val_loss: 0.0992\n",
            "Epoch 73/600\n",
            "14/14 [==============================] - 0s 3ms/step - loss: 0.1142 - val_loss: 0.1029\n",
            "Epoch 74/600\n",
            "14/14 [==============================] - 0s 5ms/step - loss: 0.1204 - val_loss: 0.1013\n",
            "Epoch 75/600\n",
            "14/14 [==============================] - 0s 4ms/step - loss: 0.1164 - val_loss: 0.0994\n",
            "Epoch 76/600\n",
            "14/14 [==============================] - 0s 3ms/step - loss: 0.1180 - val_loss: 0.1027\n",
            "Epoch 77/600\n",
            "14/14 [==============================] - 0s 5ms/step - loss: 0.1191 - val_loss: 0.0983\n",
            "Epoch 78/600\n",
            "14/14 [==============================] - 0s 4ms/step - loss: 0.0979 - val_loss: 0.0977\n",
            "Epoch 79/600\n",
            "14/14 [==============================] - 0s 3ms/step - loss: 0.1130 - val_loss: 0.0986\n",
            "Epoch 80/600\n",
            "14/14 [==============================] - 0s 4ms/step - loss: 0.1137 - val_loss: 0.1017\n",
            "Epoch 81/600\n",
            "14/14 [==============================] - 0s 3ms/step - loss: 0.0996 - val_loss: 0.0981\n",
            "Epoch 82/600\n",
            "14/14 [==============================] - 0s 4ms/step - loss: 0.1132 - val_loss: 0.0988\n",
            "Epoch 83/600\n",
            "14/14 [==============================] - 0s 5ms/step - loss: 0.1099 - val_loss: 0.0976\n",
            "Epoch 84/600\n",
            "14/14 [==============================] - 0s 4ms/step - loss: 0.1028 - val_loss: 0.0964\n",
            "Epoch 85/600\n",
            "14/14 [==============================] - 0s 4ms/step - loss: 0.1090 - val_loss: 0.0927\n",
            "Epoch 86/600\n",
            "14/14 [==============================] - 0s 5ms/step - loss: 0.1100 - val_loss: 0.1088\n",
            "Epoch 87/600\n",
            "14/14 [==============================] - 0s 4ms/step - loss: 0.1079 - val_loss: 0.0943\n",
            "Epoch 88/600\n",
            "14/14 [==============================] - 0s 4ms/step - loss: 0.0942 - val_loss: 0.0927\n",
            "Epoch 89/600\n",
            "14/14 [==============================] - 0s 5ms/step - loss: 0.0959 - val_loss: 0.1055\n",
            "Epoch 90/600\n",
            "14/14 [==============================] - 0s 4ms/step - loss: 0.1018 - val_loss: 0.1002\n",
            "Epoch 91/600\n",
            "14/14 [==============================] - 0s 3ms/step - loss: 0.1061 - val_loss: 0.0966\n",
            "Epoch 92/600\n",
            "14/14 [==============================] - 0s 3ms/step - loss: 0.1189 - val_loss: 0.0965\n",
            "Epoch 93/600\n",
            "14/14 [==============================] - 0s 3ms/step - loss: 0.0851 - val_loss: 0.1099\n",
            "Epoch 94/600\n",
            "14/14 [==============================] - 0s 5ms/step - loss: 0.1178 - val_loss: 0.1006\n",
            "Epoch 95/600\n",
            "14/14 [==============================] - 0s 5ms/step - loss: 0.1189 - val_loss: 0.1006\n",
            "Epoch 96/600\n",
            "14/14 [==============================] - 0s 5ms/step - loss: 0.1251 - val_loss: 0.0951\n",
            "Epoch 97/600\n",
            "14/14 [==============================] - 0s 5ms/step - loss: 0.0952 - val_loss: 0.0984\n",
            "Epoch 98/600\n",
            "14/14 [==============================] - 0s 5ms/step - loss: 0.1056 - val_loss: 0.0953\n",
            "Epoch 99/600\n",
            "14/14 [==============================] - 0s 3ms/step - loss: 0.1040 - val_loss: 0.0993\n",
            "Epoch 100/600\n",
            "14/14 [==============================] - 0s 3ms/step - loss: 0.0793 - val_loss: 0.0983\n",
            "Epoch 101/600\n",
            "14/14 [==============================] - 0s 5ms/step - loss: 0.0989 - val_loss: 0.0958\n",
            "Epoch 102/600\n",
            "14/14 [==============================] - 0s 4ms/step - loss: 0.1040 - val_loss: 0.1014\n",
            "Epoch 103/600\n",
            "14/14 [==============================] - 0s 5ms/step - loss: 0.0917 - val_loss: 0.0981\n",
            "Epoch 104/600\n",
            "14/14 [==============================] - 0s 5ms/step - loss: 0.0731 - val_loss: 0.1052\n",
            "Epoch 105/600\n",
            "14/14 [==============================] - 0s 3ms/step - loss: 0.0939 - val_loss: 0.1031\n",
            "Epoch 106/600\n",
            "14/14 [==============================] - 0s 5ms/step - loss: 0.0932 - val_loss: 0.0940\n",
            "Epoch 107/600\n",
            "14/14 [==============================] - 0s 5ms/step - loss: 0.1154 - val_loss: 0.1008\n",
            "Epoch 108/600\n",
            "14/14 [==============================] - 0s 5ms/step - loss: 0.1059 - val_loss: 0.0997\n",
            "Epoch 109/600\n",
            "14/14 [==============================] - 0s 3ms/step - loss: 0.0994 - val_loss: 0.0982\n",
            "Epoch 110/600\n",
            "14/14 [==============================] - 0s 4ms/step - loss: 0.0967 - val_loss: 0.1011\n",
            "Epoch 00110: early stopping\n"
          ]
        },
        {
          "output_type": "execute_result",
          "data": {
            "text/plain": [
              "<keras.callbacks.History at 0x7fc90f8051d0>"
            ]
          },
          "metadata": {},
          "execution_count": 31
        }
      ]
    },
    {
      "cell_type": "code",
      "metadata": {
        "colab": {
          "base_uri": "https://localhost:8080/",
          "height": 282
        },
        "id": "QDAhXKoYwRmo",
        "outputId": "c36105a4-d5be-4c0d-d66b-255fdd8dabb9"
      },
      "source": [
        "model.loss = pd.DataFrame(model.history.history)\n",
        "model.loss.plot()"
      ],
      "execution_count": null,
      "outputs": [
        {
          "output_type": "execute_result",
          "data": {
            "text/plain": [
              "<matplotlib.axes._subplots.AxesSubplot at 0x7fc90d476490>"
            ]
          },
          "metadata": {},
          "execution_count": 32
        },
        {
          "output_type": "display_data",
          "data": {
            "image/png": "[encoded data removed]",
            "text/plain": [
              "<Figure size 432x288 with 1 Axes>"
            ]
          },
          "metadata": {
            "needs_background": "light"
          }
        }
      ]
    },
    {
      "cell_type": "code",
      "metadata": {
        "id": "9bUp3OL9wX_r"
      },
      "source": [
        "predictions = (model.predict(X_test) > 0.5).astype(\"int32\")"
      ],
      "execution_count": null,
      "outputs": []
    },
    {
      "cell_type": "code",
      "metadata": {
        "id": "K2FDgVrWwo4T"
      },
      "source": [
        "from sklearn.metrics import classification_report,confusion_matrix"
      ],
      "execution_count": null,
      "outputs": []
    },
    {
      "cell_type": "code",
      "metadata": {
        "colab": {
          "base_uri": "https://localhost:8080/"
        },
        "id": "km0SfzPGwyRi",
        "outputId": "8b7ebf77-a876-40f8-d94b-d02ce31bc7e2"
      },
      "source": [
        "print(classification_report(y_test,predictions))"
      ],
      "execution_count": null,
      "outputs": [
        {
          "output_type": "stream",
          "name": "stdout",
          "text": [
            "              precision    recall  f1-score   support\n",
            "\n",
            "           0       0.93      0.98      0.96        55\n",
            "           1       0.99      0.95      0.97        88\n",
            "\n",
            "    accuracy                           0.97       143\n",
            "   macro avg       0.96      0.97      0.96       143\n",
            "weighted avg       0.97      0.97      0.97       143\n",
            "\n"
          ]
        }
      ]
    },
    {
      "cell_type": "code",
      "metadata": {
        "colab": {
          "base_uri": "https://localhost:8080/"
        },
        "id": "mTQJah-6wz_t",
        "outputId": "9be3baeb-b890-4084-b937-6dd6c8715846"
      },
      "source": [
        "print(confusion_matrix(y_test,predictions))"
      ],
      "execution_count": null,
      "outputs": [
        {
          "output_type": "stream",
          "name": "stdout",
          "text": [
            "[[54  1]\n",
            " [ 4 84]]\n"
          ]
        }
      ]
    },
    {
      "cell_type": "code",
      "metadata": {
        "id": "ZvjavImsxKW7"
      },
      "source": [
        ""
      ],
      "execution_count": null,
      "outputs": []
    }
  ]
}